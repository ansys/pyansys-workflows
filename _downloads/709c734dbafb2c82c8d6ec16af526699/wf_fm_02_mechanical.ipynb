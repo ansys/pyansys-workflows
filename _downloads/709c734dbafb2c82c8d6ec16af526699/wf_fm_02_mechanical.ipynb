{
  "cells": [
    {
      "cell_type": "markdown",
      "metadata": {},
      "source": [
        "\n\n# Thermo-mechanical assessment of representative exhaust manifold model\n\n## Background\n\nThe turbine housing/exhaust manifold is a critical component as it is subjected to extreme\ntemperature cycling. This induces fatigue in the housing material and leads to early\nfailure. Simulation helps to design housing and other parts for extended service life.\n\n## Thermo-mechanical workflow\n\nA comprehensive CFD analysis of the exhaust manifold component is executed as a\nsteady-state examination, focusing on the specified duty cycle. This process involves\ntwo recurring duty cycles, during which the temperature and other crucial operating\nparameters, such as mass flow and pressure, maintain a consistent pseudo-steady state.\n\nThree unique operating conditions are chosen from the duty cycle, and steady-state\ncalculations are performed corresponding to the exhaust gas temperature in each case.\nThe resulting Heat Transfer Coefficients (HTCs) and temperatures at the solid-fluid\ninterface are exported to a CSV file, which serves as the input for subsequent thermal\ncalculations in the Mechanical run.\n\nThe Mechanical run encompasses Structural Transient Thermal and Non-linear (NL) Static\nanalyses, employing temperature-dependent Bilinear Kinematic hardening material\nproperties for a thorough structural evaluation.\n\nIn the Transient Thermal run, imported HTCs and reference temperatures from the\nCFD runs are mapped onto the structural mesh of the exhaust manifold assembly. External\nconvection loads and other boundary conditions are applied to calculate the temperature\ndistribution across the exhaust manifold assembly.\n\nSubsequently, a non-linear static analysis is conducted to determine the plastic strain,\ntaking into account the temperature distribution calculated in the Transient Thermal\nsolve and other relevant structural boundary conditions.\n\nThis approach leads to a more impactful and precise understanding of the exhaust\nmanifold's performance subjected to thermal cycling.\n"
      ]
    },
    {
      "cell_type": "code",
      "execution_count": null,
      "metadata": {
        "collapsed": false
      },
      "outputs": [],
      "source": [
        "import os\nfrom pathlib import Path\n\nfrom ansys.mechanical.core import launch_mechanical\nfrom ansys.mechanical.core.examples import download_file\nfrom matplotlib import image as mpimg\nfrom matplotlib import pyplot as plt"
      ]
    },
    {
      "cell_type": "markdown",
      "metadata": {},
      "source": [
        "## Parameters for the script\nThe following parameters are used to control the script execution. You can\nmodify these parameters to suit your needs.\n\n\n"
      ]
    },
    {
      "cell_type": "code",
      "execution_count": null,
      "metadata": {
        "collapsed": false
      },
      "outputs": [],
      "source": [
        "GRAPHICS_BOOL = False  # Set to True to display the graphics\nOUTPUT_DIR = Path(Path(__file__).parent, \"outputs\")  # Output directory"
      ]
    },
    {
      "cell_type": "markdown",
      "metadata": {},
      "source": [
        "## Start a PyMechanical app\n\n\n"
      ]
    },
    {
      "cell_type": "code",
      "execution_count": null,
      "metadata": {
        "collapsed": false
      },
      "outputs": [],
      "source": [
        "mechanical = launch_mechanical(batch=True, cleanup_on_exit=False)\nprint(mechanical)\n\n\ndef display_image(image_name):\n    plt.figure(figsize=(16, 9))\n    plt.imshow(mpimg.imread(os.path.join(OUTPUT_DIR, image_name)))\n    plt.xticks([])\n    plt.yticks([])\n    plt.axis(\"off\")\n    plt.show()"
      ]
    },
    {
      "cell_type": "markdown",
      "metadata": {},
      "source": [
        "Input files needed for the simulation\n---------------- --------------------\nDownload the input files needed for the simulation.\n\n\n"
      ]
    },
    {
      "cell_type": "code",
      "execution_count": null,
      "metadata": {
        "collapsed": false
      },
      "outputs": [],
      "source": [
        "geometry_path = download_file(\n    \"Exhaust_Manifold_Geometry.pmdb\", \"pyansys-workflow\", \"exhaust-manifold\", \"pymechanical\"\n)\nmaterial_path = download_file(\n    \"Nonlinear_Material.xml\", \"pyansys-workflow\", \"exhaust-manifold\", \"pymechanical\"\n)\n\n# Files necessary for the thermal simulation from fluent analysis\n\ntemp_htc_data_high_path = os.path.join(OUTPUT_DIR, \"htc_temp_mapping_HIGH_TEMP.csv\")\ntemp_htc_data_med_path = os.path.join(OUTPUT_DIR, \"htc_temp_mapping_MEDIUM_TEMP.csv\")\ntemp_htc_data_low_path = os.path.join(OUTPUT_DIR, \"htc_temp_mapping_LOW_TEMP.csv\")\n\nall_input_files = {\n    \"geometry_path\": geometry_path,\n    \"material_path\": material_path,\n    \"temp_htc_data_high_path\": temp_htc_data_high_path,\n    \"temp_htc_data_med_path\": temp_htc_data_med_path,\n    \"temp_htc_data_low_path\": temp_htc_data_low_path,\n}\n\n# Upload to Mechanical Remote session server and get the file paths\n\nproject_directory = mechanical.project_directory\nprint(f\"project directory = {project_directory}\")\nfor input_file_name, input_file_path in all_input_files.items():\n\n    # Upload the file to the project directory.\n    mechanical.upload(file_name=input_file_path, file_location_destination=project_directory)\n\n    # Build the path relative to project directory.\n    base_name = os.path.basename(input_file_path)\n    combined_path = os.path.join(project_directory, base_name)\n    server_file_path = combined_path.replace(\"\\\\\", \"\\\\\\\\\")\n    mechanical.run_python_script(f\"{input_file_name} = '{server_file_path}'\")\n    result = mechanical.run_python_script(f\"{input_file_name}\")\n    print(f\"path of {input_file_name} on server: {result}\")"
      ]
    },
    {
      "cell_type": "markdown",
      "metadata": {},
      "source": [
        "## Configure graphics for image export\n\n\n"
      ]
    },
    {
      "cell_type": "code",
      "execution_count": null,
      "metadata": {
        "collapsed": false
      },
      "outputs": [],
      "source": [
        "mechanical.run_python_script(\n    \"\"\"\nExtAPI.Graphics.Camera.SetSpecificViewOrientation(\n    Ansys.Mechanical.DataModel.Enums.ViewOrientationType.Iso\n)\nExtAPI.Graphics.Camera.SetFit()\nimage_export_format = Ansys.Mechanical.DataModel.Enums.GraphicsImageExportFormat.PNG\nsettings_720p = Ansys.Mechanical.Graphics.GraphicsImageExportSettings()\nsettings_720p.Resolution = (\n    Ansys.Mechanical.DataModel.Enums.GraphicsResolutionType.EnhancedResolution\n)\nsettings_720p.Background = Ansys.Mechanical.DataModel.Enums.GraphicsBackgroundType.White\nsettings_720p.Width = 1280\nsettings_720p.Height = 720\nsettings_720p.CurrentGraphicsDisplay = False\n\"\"\"\n)"
      ]
    },
    {
      "cell_type": "markdown",
      "metadata": {},
      "source": [
        "## Import geometry\n\n\n"
      ]
    },
    {
      "cell_type": "code",
      "execution_count": null,
      "metadata": {
        "collapsed": false
      },
      "outputs": [],
      "source": [
        "mechanical.run_python_script(\n    \"\"\"\nimport os\ngeometry_import_group = Model.GeometryImportGroup\ngeometry_import = geometry_import_group.AddGeometryImport()\ngeometry_import_format = (\n    Ansys.Mechanical.DataModel.Enums.GeometryImportPreference.Format.Automatic\n)\ngeometry_import_preferences = Ansys.ACT.Mechanical.Utilities.GeometryImportPreferences()\ngeometry_import_preferences.ProcessNamedSelections = True\ngeometry_import_preferences.NamedSelectionKey = \"\"\ngeometry_import_preferences.ProcessMaterialProperties = True\ngeometry_import_preferences.ProcessCoordinateSystems = True\ngeometry_import.Import(\n    geometry_path, geometry_import_format, geometry_import_preferences\n)\nproject_directory = ExtAPI.DataModel.Project.ProjectDirectory\nExtAPI.Graphics.Camera.SetFit()\nExtAPI.Graphics.ExportImage(\n    os.path.join(project_directory, \"geometry.png\"), image_export_format, settings_720p\n)\n\"\"\"\n)\n\n# Download the geometry image and display it\nmechanical.download(files=os.path.join(project_directory, \"geometry.png\"), target_dir=OUTPUT_DIR)\nif GRAPHICS_BOOL:\n    display_image(\"geometry.png\")"
      ]
    },
    {
      "cell_type": "markdown",
      "metadata": {},
      "source": [
        "## Import material, assign it to the bodies and create Named Selections\n\n\n"
      ]
    },
    {
      "cell_type": "code",
      "execution_count": null,
      "metadata": {
        "collapsed": false
      },
      "outputs": [],
      "source": [
        "mechanical.run_python_script(\n    \"\"\"\nmaterials = ExtAPI.DataModel.Project.Model.Materials\nmaterials.Import(material_path)\nmaterials.RefreshMaterials()\n\nPRT1 = [x for x in ExtAPI.DataModel.Tree.AllObjects if x.Name == \"Geom-2\\\\Geom-1\\\\solid\"][0]\n\n# Assign it to the bodies\n\nnmat = \"1_HiSi_Model3_Exhaust Manifold updated\"\nPRT1.Material = nmat\n\n\n# Select MKS units\nExtAPI.Application.ActiveUnitSystem = MechanicalUnitSystem.StandardNMM\n\n# Store all main tree nodes as variables\nGEOM = Model.Geometry\nMAT_GRP = Model.Materials\n\n# Create NS for Named Selection.\n\nNS_GRP = ExtAPI.DataModel.Project.Model.NamedSelections\nBRACKET_FIX_NS = [x for x in ExtAPI.DataModel.Tree.AllObjects if x.Name == \"bracket_fix\"][0]\nINTERFACE_SURFACE_NS = [\n    x for x in ExtAPI.DataModel.Tree.AllObjects if x.Name == \"interface_surface\"\n][0]\nEXHAUST_MANIFOLD_NS = [x for x in ExtAPI.DataModel.Tree.AllObjects if x.Name == \"exhaust_manifold\"][\n    0\n]\nTOP_BRACKET_SURFACE_NS = [\n    x for x in ExtAPI.DataModel.Tree.AllObjects if x.Name == \"top_bracket_surface\"\n][0]\nSPACERS_NS = [x for x in ExtAPI.DataModel.Tree.AllObjects if x.Name == \"spacers\"][0]\nEM_OUTER_SURFACE_NS = [x for x in ExtAPI.DataModel.Tree.AllObjects if x.Name == \"em_outer_surface\"][\n    0\n]\n\"\"\"\n)"
      ]
    },
    {
      "cell_type": "markdown",
      "metadata": {},
      "source": [
        "## Set up the mesh and generate\n\n\n"
      ]
    },
    {
      "cell_type": "code",
      "execution_count": null,
      "metadata": {
        "collapsed": false
      },
      "outputs": [],
      "source": [
        "mechanical.run_python_script(\n    \"\"\"\nMESH = Model.Mesh\n\nMESH.UseAdaptiveSizing = True\nMESH.TransitionOption = 1\n\nTree.Activate([MESH])\nMESH.GenerateMesh()\n\n# Export mesh image\n\nExtAPI.Graphics.Camera.SetFit()\nExtAPI.Graphics.ExportImage(\n    os.path.join(project_directory, \"mesh.png\"), image_export_format, settings_720p\n)\n\"\"\"\n)\n\n# Download the mesh image and display it\nmechanical.download(files=os.path.join(project_directory, \"mesh.png\"), target_dir=OUTPUT_DIR)\nif GRAPHICS_BOOL:\n    display_image(\"mesh.png\")"
      ]
    },
    {
      "cell_type": "markdown",
      "metadata": {},
      "source": [
        "## Add Transient Thermal Analysis and set up the analysis settings\n\n\n"
      ]
    },
    {
      "cell_type": "code",
      "execution_count": null,
      "metadata": {
        "collapsed": false
      },
      "outputs": [],
      "source": [
        "mechanical.run_python_script(\n    \"\"\"\nModel.AddTransientThermalAnalysis()\n\n# Store all main tree nodes as variables\nTRANS_THERM = Model.Analyses[0]\nTRANS_THERM_SOLN = TRANS_THERM.Solution\nANA_SETTINGS = TRANS_THERM.Children[1]\n# ANA_SETTINGS = TRANS_THERM.AnalysisSettings\n\n# Setup transient thermal analysis settings\nANA_SETTINGS.SolverType = SolverType.Direct\nANA_SETTINGS.NonLinearFormulation = NonLinearFormulationType.Full\n\nANA_SETTINGS.NumberOfSteps = 1\nANA_SETTINGS.SetStepEndTime(1, Quantity('720[s]'))\nANA_SETTINGS.NumberOfSteps = 14\nanalysis_step = (\n    (1, Quantity('1e-3[s]')),\n    (2, Quantity('2e-3[s]')),\n    (3, Quantity('20[s]')),\n    (4, Quantity('30[s]')),\n    (5, Quantity('320[s]')),\n    (6, Quantity('330[s]')),\n    (7, Quantity('350[s]')),\n    (8, Quantity('360[s]')),\n    (9, Quantity('380[s]')),\n    (10, Quantity('390[s]')),\n    (11, Quantity('680[s]')),\n    (12, Quantity('690[s]')),\n    (13, Quantity('710[s]')),\n    (14, Quantity('720[s]'))\n)\nfor i, q in analysis_step:\n    ANA_SETTINGS.SetStepEndTime(i, q)\nANA_SETTINGS.Activate()\n\nExternal_Convection_Load_1 = TRANS_THERM.AddConvection()\nselection = NS_GRP.Children[8]\nExternal_Convection_Load_1.Location = selection\n\nExternal_Convection_Load_1.FilmCoefficient.Inputs[0].DiscreteValues = [\n    Quantity('0[s]'), Quantity('1e-3[s]'),\n    Quantity('2e-3[s]'), Quantity('20[s]'),\n    Quantity('30[s]'), Quantity('320[s]'),\n    Quantity('330[s]'), Quantity('350[s]'),\n    Quantity('360[s]'), Quantity('380[s]'),\n    Quantity('390[s]'), Quantity('680[s]'),\n    Quantity('690[s]'), Quantity('710[s]'),\n    Quantity('720[s]')\n]\n\nExternal_Convection_Load_1.FilmCoefficient.Output.DiscreteValues = [\n    Quantity('60[W m^-1 m^-1 K^-1]'), Quantity('60[W m^-1 m^-1 K^-1]'),\n    Quantity('60[W m^-1 m^-1 K^-1]'), Quantity('60[W m^-1 m^-1 K^-1]'),\n    Quantity('60[W m^-1 m^-1 K^-1]'), Quantity('60[W m^-1 m^-1 K^-1]'),\n    Quantity('60[W m^-1 m^-1 K^-1]'), Quantity('60[W m^-1 m^-1 K^-1]'),\n    Quantity('60[W m^-1 m^-1 K^-1]'), Quantity('60[W m^-1 m^-1 K^-1]'),\n    Quantity('60[W m^-1 m^-1 K^-1]'), Quantity('60[W m^-1 m^-1 K^-1]'),\n    Quantity('60[W m^-1 m^-1 K^-1]'), Quantity('60[W m^-1 m^-1 K^-1]'),\n    Quantity('60[W m^-1 m^-1 K^-1]')\n]\n\nExternal_Convection_Load_1.AmbientTemperature.Inputs[0].DiscreteValues = [\n    Quantity('0[s]'), Quantity('1e-3[s]'),\n    Quantity('2e-3[s]'), Quantity('20[s]'),\n    Quantity('30[s]'), Quantity('320[s]'),\n    Quantity('330[s]'), Quantity('350[s]'),\n    Quantity('360[s]'), Quantity('380[s]'),\n    Quantity('390[s]'), Quantity('680[s]'),\n    Quantity('690[s]'), Quantity('710[s]'),\n    Quantity('720[s]')\n]\n\nExternal_Convection_Load_1.AmbientTemperature.Output.DiscreteValues = [\n    Quantity('473.15[K]'), Quantity('473.15[K]'),\n    Quantity('473.15[K]'), Quantity('473.15[K]'),\n    Quantity('473.15[K]'), Quantity('473.15[K]'),\n    Quantity('473.15[K]'), Quantity('473.15[K]'),\n    Quantity('473.15[K]'), Quantity('473.15[K]'),\n    Quantity('473.15[K]'), Quantity('473.15[K]'),\n    Quantity('473.15[K]'), Quantity('473.15[K]'),\n    Quantity('473.15[K]')\n]\n\nExternal_Convection_Load_2 = TRANS_THERM.AddConvection()\nselection = NS_GRP.Children[7]\nExternal_Convection_Load_2.Location = selection\n\nExternal_Convection_Load_2.FilmCoefficient.Inputs[0].DiscreteValues = [\n    Quantity('0[s]'), Quantity('1e-3[s]'),\n    Quantity('2e-3[s]'), Quantity('20[s]'),\n    Quantity('30[s]'), Quantity('320[s]'),\n    Quantity('330[s]'), Quantity('350[s]'),\n    Quantity('360[s]'), Quantity('380[s]'),\n    Quantity('390[s]'), Quantity('680[s]'),\n    Quantity('690[s]'), Quantity('710[s]'),\n    Quantity('720[s]')\n]\n\nExternal_Convection_Load_2.FilmCoefficient.Output.DiscreteValues = [\n    Quantity('20[W m^-1 m^-1 K^-1]'), Quantity('20[W m^-1 m^-1 K^-1]'),\n    Quantity('20[W m^-1 m^-1 K^-1]'), Quantity('20[W m^-1 m^-1 K^-1]'),\n    Quantity('20[W m^-1 m^-1 K^-1]'), Quantity('20[W m^-1 m^-1 K^-1]'),\n    Quantity('20[W m^-1 m^-1 K^-1]'), Quantity('20[W m^-1 m^-1 K^-1]'),\n    Quantity('20[W m^-1 m^-1 K^-1]'), Quantity('20[W m^-1 m^-1 K^-1]'),\n    Quantity('20[W m^-1 m^-1 K^-1]'), Quantity('20[W m^-1 m^-1 K^-1]'),\n    Quantity('20[W m^-1 m^-1 K^-1]'), Quantity('20[W m^-1 m^-1 K^-1]'),\n    Quantity('20[W m^-1 m^-1 K^-1]')\n]\n\nExternal_Convection_Load_2.AmbientTemperature.Inputs[0].DiscreteValues = [\n    Quantity('0[s]'), Quantity('1e-3[s]'),\n    Quantity('2e-3[s]'),Quantity('20[s]'),\n    Quantity('30[s]'), Quantity('320[s]'),\n    Quantity('330[s]'), Quantity('350[s]'),\n    Quantity('360[s]'), Quantity('380[s]'),\n    Quantity('390[s]'), Quantity('680[s]'),\n    Quantity('690[s]'), Quantity('710[s]'),\n    Quantity('720[s]')\n]\n\nExternal_Convection_Load_2.AmbientTemperature.Output.DiscreteValues = [\n    Quantity('498.15[K]'), Quantity('498.15[K]'),\n    Quantity('498.15[K]'), Quantity('498.15[K]'),\n    Quantity('498.15[K]'), Quantity('498.15[K]'),\n    Quantity('498.15[K]'), Quantity('498.15[K]'),\n    Quantity('498.15[K]'), Quantity('498.15[K]'),\n    Quantity('498.15[K]'), Quantity('498.15[K]'),\n    Quantity('498.15[K]'), Quantity('498.15[K]'),\n    Quantity('498.15[K]')\n]\n\nExternal_Convection_Load_3 = TRANS_THERM.AddConvection()\nselection = NS_GRP.Children[6]\nExternal_Convection_Load_3.Location = selection\n\nExternal_Convection_Load_3.FilmCoefficient.Inputs[0].DiscreteValues = [\n    Quantity('0[s]'), Quantity('1e-3[s]'),\n    Quantity('2e-3[s]'), Quantity('20[s]'),\n    Quantity('30[s]'), Quantity('320[s]'),\n    Quantity('330[s]'), Quantity('350[s]'),\n    Quantity('360[s]'), Quantity('380[s]'),\n    Quantity('390[s]'), Quantity('680[s]'),\n    Quantity('690[s]'), Quantity('710[s]'),\n    Quantity('720[s]')\n]\n\nExternal_Convection_Load_3.FilmCoefficient.Output.DiscreteValues = [\n    Quantity('500[W m^-1 m^-1 K^-1]'), Quantity('500[W m^-1 m^-1 K^-1]'),\n    Quantity('500[W m^-1 m^-1 K^-1]'), Quantity('500[W m^-1 m^-1 K^-1]'),\n    Quantity('500[W m^-1 m^-1 K^-1]'), Quantity('500[W m^-1 m^-1 K^-1]'),\n    Quantity('500[W m^-1 m^-1 K^-1]'), Quantity('500[W m^-1 m^-1 K^-1]'),\n    Quantity('500[W m^-1 m^-1 K^-1]'), Quantity('500[W m^-1 m^-1 K^-1]'),\n    Quantity('500[W m^-1 m^-1 K^-1]'), Quantity('500[W m^-1 m^-1 K^-1]'),\n    Quantity('500[W m^-1 m^-1 K^-1]'), Quantity('500[W m^-1 m^-1 K^-1]'),\n    Quantity('500[W m^-1 m^-1 K^-1]')\n]\n\nExternal_Convection_Load_3.AmbientTemperature.Inputs[0].DiscreteValues = [\n    Quantity('0[s]'), Quantity('1e-3[s]'),\n    Quantity('2e-3[s]'), Quantity('20[s]'),\n    Quantity('30[s]'), Quantity('320[s]'),\n    Quantity('330[s]'), Quantity('350[s]'),\n    Quantity('360[s]'), Quantity('380[s]'),\n    Quantity('390[s]'), Quantity('680[s]'),\n    Quantity('690[s]'), Quantity('710[s]'),\n    Quantity('720[s]')\n]\n\nExternal_Convection_Load_3.AmbientTemperature.Output.DiscreteValues = [\n    Quantity('373.15[K]'), Quantity('373.15[K]'),\n    Quantity('373.15[K]'), Quantity('373.15[K]'),\n    Quantity('373.15[K]'), Quantity('373.15[K]'),\n    Quantity('373.15[K]'), Quantity('373.15[K]'),\n    Quantity('373.15[K]'), Quantity('373.15[K]'),\n    Quantity('373.15[K]'), Quantity('373.15[K]'),\n    Quantity('373.15[K]'), Quantity('373.15[K]'),\n    Quantity('373.15[K]')\n]\n\ngroup_list = [External_Convection_Load_1, External_Convection_Load_2, External_Convection_Load_3]\ngrouping_folder = Tree.Group(group_list)\ntree_grouping_folder_70 = DataModel.GetObjectsByName(\"New Folder\")\n\"\"\"\n)"
      ]
    },
    {
      "cell_type": "markdown",
      "metadata": {},
      "source": [
        "## Use the output from Fluent to import the temperature and HTC data\n\nAdd imported convection\n\n"
      ]
    },
    {
      "cell_type": "code",
      "execution_count": null,
      "metadata": {
        "collapsed": false
      },
      "outputs": [],
      "source": [
        "result = mechanical.run_python_script(\n    \"\"\"\nImported_Load_Group = TRANS_THERM.AddImportedLoadExternalData()\nimported_load_group_61=Imported_Load_Group\nimported_convection_62 = Imported_Load_Group.AddImportedConvection()\n\"\"\"\n)\nresult = mechanical.run_python_script(\n    \"\"\"\nexternal_data_files = Ansys.Mechanical.ExternalData.ExternalDataFileCollection()\nexternal_data_files.SaveFilesWithProject = False\n\nexternal_data_file_1 = Ansys.Mechanical.ExternalData.ExternalDataFile()\nexternal_data_files.Add(external_data_file_1)\nexternal_data_file_1.Identifier = \"File1\"\nexternal_data_file_1.Description = \"High\"\nexternal_data_file_1.IsMainFile = True\nexternal_data_file_1.FilePath = temp_htc_data_high_path\nexternal_data_file_1.ImportSettings = (\n    Ansys.Mechanical.ExternalData.ImportSettingsFactory.GetSettingsForFormat(\n        MechanicalEnums.ExternalData.ImportFormat.Delimited\n    )\n)\nimport_settings = external_data_file_1.ImportSettings\nimport_settings.SkipRows = 1\nimport_settings.SkipFooter = 0\nimport_settings.Delimiter = \",\"\nimport_settings.AverageCornerNodesToMidsideNodes = False\nimport_settings.UseColumn(\n    0, MechanicalEnums.ExternalData.VariableType.NodeId, \"\", \"Node ID@A\"\n)\nimport_settings.UseColumn(\n    1, MechanicalEnums.ExternalData.VariableType.XCoordinate, \"m\", \"X Coordinate@B\"\n)\nimport_settings.UseColumn(\n    2, MechanicalEnums.ExternalData.VariableType.YCoordinate, \"m\", \"Y Coordinate@C\"\n)\nimport_settings.UseColumn(\n    3, MechanicalEnums.ExternalData.VariableType.ZCoordinate, \"m\", \"Z Coordinate@D\"\n)\nimport_settings.UseColumn(\n    4, MechanicalEnums.ExternalData.VariableType.Temperature, \"K\", \"Temperature@E\"\n)\nimport_settings.UseColumn(\n    5, MechanicalEnums.ExternalData.VariableType.HeatTransferCoefficient,\n    \"W m^-2 K^-1\", \"Heat Transfer Coefficient@F\"\n)\n\nexternal_data_file_2 = Ansys.Mechanical.ExternalData.ExternalDataFile()\nexternal_data_files.Add(external_data_file_2)\nexternal_data_file_2.Identifier = \"File2\"\nexternal_data_file_2.Description = \"Med\"\nexternal_data_file_2.IsMainFile = False\nexternal_data_file_2.FilePath = temp_htc_data_med_path\nexternal_data_file_2.ImportSettings = (\n    Ansys.Mechanical.ExternalData.ImportSettingsFactory.GetSettingsForFormat(\n        MechanicalEnums.ExternalData.ImportFormat.Delimited\n    )\n)\nimport_settings = external_data_file_2.ImportSettings\nimport_settings.SkipRows = 1\nimport_settings.SkipFooter = 0\nimport_settings.Delimiter = \",\"\nimport_settings.AverageCornerNodesToMidsideNodes = False\nimport_settings.UseColumn(\n    0, MechanicalEnums.ExternalData.VariableType.NodeId, \"\", \"Node ID@A\"\n)\nimport_settings.UseColumn(\n    1, MechanicalEnums.ExternalData.VariableType.XCoordinate, \"m\", \"X Coordinate@B\"\n)\nimport_settings.UseColumn(\n    2, MechanicalEnums.ExternalData.VariableType.YCoordinate, \"m\", \"Y Coordinate@C\"\n)\nimport_settings.UseColumn(\n    3, MechanicalEnums.ExternalData.VariableType.ZCoordinate, \"m\", \"Z Coordinate@D\"\n)\nimport_settings.UseColumn(\n    4, MechanicalEnums.ExternalData.VariableType.Temperature, \"K\", \"Temperature@E\"\n)\nimport_settings.UseColumn(\n    5, MechanicalEnums.ExternalData.VariableType.HeatTransferCoefficient,\n    \"W m^-2 K^-1\", \"Heat Transfer Coefficient@F\"\n)\n\nexternal_data_file_3 = Ansys.Mechanical.ExternalData.ExternalDataFile()\nexternal_data_files.Add(external_data_file_3)\nexternal_data_file_3.Identifier = \"File3\"\nexternal_data_file_3.Description = \"Low\"\nexternal_data_file_3.IsMainFile = False\nexternal_data_file_3.FilePath = temp_htc_data_low_path\nexternal_data_file_3.ImportSettings = (\n    Ansys.Mechanical.ExternalData.ImportSettingsFactory.GetSettingsForFormat(\n        MechanicalEnums.ExternalData.ImportFormat.Delimited\n    )\n)\nimport_settings = external_data_file_3.ImportSettings\nimport_settings.SkipRows = 1\nimport_settings.SkipFooter = 0\nimport_settings.Delimiter = \",\"\nimport_settings.AverageCornerNodesToMidsideNodes = False\nimport_settings.UseColumn(\n    0, MechanicalEnums.ExternalData.VariableType.NodeId, \"\", \"Node ID@A\"\n)\nimport_settings.UseColumn(\n    1, MechanicalEnums.ExternalData.VariableType.XCoordinate, \"m\", \"X Coordinate@B\"\n)\nimport_settings.UseColumn(\n    2, MechanicalEnums.ExternalData.VariableType.YCoordinate, \"m\", \"Y Coordinate@C\"\n)\nimport_settings.UseColumn(\n    3, MechanicalEnums.ExternalData.VariableType.ZCoordinate, \"m\", \"Z Coordinate@D\"\n)\nimport_settings.UseColumn(\n    4, MechanicalEnums.ExternalData.VariableType.Temperature, \"K\", \"Temperature@E\"\n)\nimport_settings.UseColumn(\n    5, MechanicalEnums.ExternalData.VariableType.HeatTransferCoefficient,\n    \"W m^-2 K^-1\", \"Heat Transfer Coefficient@F\"\n)\n\nimported_load_group_61.ImportExternalDataFiles(external_data_files)\n\"\"\"\n)\n\nresult = mechanical.run_python_script(\n    \"\"\"\ntable = imported_load_group_61.Children[0].GetTableByName(\"Film Coefficient\")\nnumofsteps = 15\nFilm_Coeff = [\n    \"File1:Heat Transfer Coefficient@F\",\n    \"File2:Heat Transfer Coefficient@F\",\n    \"File3:Heat Transfer Coefficient@F\"\n]\nAmb_Temp = [\n    \"File1:Temperature@E\",\n    \"File2:Temperature@E\",\n    \"File3:Temperature@E\"\n]\nAna_time = [\n    \"0\", \"1e-3\", \"2e-3\", \"20\", \"30\", \"320\", \"330\", \"350\", \"360\", \"380\", \"390\",\n    \"680\", \"690\", \"710\", \"720\"\n]\n\nfor i in range(numofsteps - 1):\n    table.Add(None)\n\nfor i in range(numofsteps):\n    table[i][0] = Film_Coeff[i % 3]\n    table[i][1] = Amb_Temp[i % 3]\n    table[i][2] = Ana_time[i]\n\nselection = NS_GRP.Children[4]\nimported_convection_62.Location = selection\nimported_load_id = imported_convection_62.ObjectId\nimported_load = DataModel.GetObjectById(imported_load_id)\n\"\"\"\n)\n\nmechanical.run_python_script(\n    \"\"\"\nimported_load.ImportLoad()\n\nTree.Activate([imported_load])\nExtAPI.Graphics.Camera.SetFit()\nExtAPI.Graphics.ExportImage(\n    os.path.join(project_directory, \"imported_temperature.png\"), image_export_format, settings_720p\n)\n\"\"\"\n)\nmechanical.download(\n    files=os.path.join(project_directory, \"imported_temperature.png\"), target_dir=OUTPUT_DIR\n)\nif GRAPHICS_BOOL:\n    display_image(\"imported_temperature.png\")"
      ]
    },
    {
      "cell_type": "markdown",
      "metadata": {},
      "source": [
        "## Solve and post-process the results\n\n\n"
      ]
    },
    {
      "cell_type": "code",
      "execution_count": null,
      "metadata": {
        "collapsed": false
      },
      "outputs": [],
      "source": [
        "mechanical.run_python_script(\n    \"\"\"\n# Insert results objects\n\nTemp = TRANS_THERM_SOLN.AddTemperature()\nTemp.DisplayTime = Quantity(\"680 [s]\")\n\n# Run Solution: Transient Thermal Simulation\n\nTRANS_THERM_SOLN.Solve(True)\nTRANS_THERM_SS = TRANS_THERM_SOLN.Status\n\n# Export temperature image\n\nTree.Activate([Temp])\nExtAPI.Graphics.ViewOptions.ResultPreference.ExtraModelDisplay = (\n    Ansys.Mechanical.DataModel.MechanicalEnums.Graphics.ExtraModelDisplay.NoWireframe\n)\nExtAPI.Graphics.ExportImage(\n    os.path.join(project_directory, \"temperature.png\"), image_export_format, settings_720p\n)\n\"\"\"\n)\n\n# Download the temperature image and display it\nmechanical.download(files=os.path.join(project_directory, \"temperature.png\"), target_dir=OUTPUT_DIR)\nif GRAPHICS_BOOL:\n    display_image(\"temperature.png\")"
      ]
    },
    {
      "cell_type": "markdown",
      "metadata": {},
      "source": [
        "## Setup Structural Analysis\n\n\n"
      ]
    },
    {
      "cell_type": "code",
      "execution_count": null,
      "metadata": {
        "collapsed": false
      },
      "outputs": [],
      "source": [
        "mechanical.run_python_script(\n    \"\"\"\nModel.AddStaticStructuralAnalysis()\n\n# Define analysis settings\n\n# Setup static structural analysis settings\nSTAT_STRUC = Model.Analyses[1]\nSTAT_STRUC_SOLN = STAT_STRUC.Solution\nSTAT_STRUC_ANA_SETTING = STAT_STRUC.Children[0]\n\nSTAT_STRUC_ANA_SETTING.NumberOfSteps = 1\nSTAT_STRUC_ANA_SETTING.SetStepEndTime(1, Quantity('720[s]'))\nSTAT_STRUC_ANA_SETTING.NumberOfSteps = 14\n\nanalysis_step = (\n    (1, Quantity('1e-3[s]')),\n    (2, Quantity('2e-3[s]')),\n    (3, Quantity('20[s]')),\n    (4, Quantity('30[s]')),\n    (5, Quantity('320[s]')),\n    (6, Quantity('330[s]')),\n    (7, Quantity('350[s]')),\n    (8, Quantity('360[s]')),\n    (9, Quantity('380[s]')),\n    (10, Quantity('390[s]')),\n    (11, Quantity('680[s]')),\n    (12, Quantity('690[s]')),\n    (13, Quantity('710[s]')),\n    (14, Quantity('720[s]'))\n)\nfor i, q in analysis_step:\n    STAT_STRUC_ANA_SETTING.SetStepEndTime(i,q)\nSTAT_STRUC_ANA_SETTING.Activate()\n\n\n# Add Imported Body Temperature load from Transient Thermal Run\n\nSTAT_STRUC.ImportLoad(Model.Analyses[0])\nimported_load = DataModel.GetObjectsByName(\"Imported Body Temperature\")[0]\n\ntable = imported_load.GetTableByName(\"Source Time\")\nnumofsteps = 14\nnCol = 2\nAna_time = [\"1e-3\",\"2e-3\",\"20\",\"30\",\"320\",\"330\",\"350\",\"360\",\"380\",\"390\",\"680\",\"690\",\"710\",\"720\"]\n\nfor i in range(numofsteps-1):\n    table.Add(None)\n\nfor i in range(numofsteps):\n    for j in range(nCol):\n        table[i][j] = Ana_time[i]\n\nimported_load.ImportLoad()\n\n# Apply Fixed Support Condition\n\nFixed_Support = STAT_STRUC.AddFixedSupport()\nselection = NS_GRP.Children[3]\nFixed_Support.Location = selection\n\"\"\"\n)"
      ]
    },
    {
      "cell_type": "markdown",
      "metadata": {},
      "source": [
        "## Solve and post-process the results\n\n\n"
      ]
    },
    {
      "cell_type": "code",
      "execution_count": null,
      "metadata": {
        "collapsed": false
      },
      "outputs": [],
      "source": [
        "mechanical.run_python_script(\n    \"\"\"\nSOLN = STAT_STRUC.Solution\n\nTOT_DEF1 = SOLN.AddTotalDeformation()\nTOT_DEF1.DisplayTime = Quantity(\"680 [s]\")\n\nEQV_STRS1 = SOLN.AddEquivalentStress()\nEQV_STRS1.DisplayTime = Quantity(\"680 [s]\")\n\nEQV_PLAS_STRN1 = SOLN.AddEquivalentPlasticStrain()\nEQV_PLAS_STRN1.DisplayTime = Quantity(\"680 [s]\")\n\nTHERM_STRN1 = SOLN.AddThermalStrain()\nTHERM_STRN1.DisplayTime = Quantity(\"680 [s]\")\n\n# Solve Nonlinear Static Simulation\n\nSOLN.Solve(True)\nSTAT_STRUC_SS = SOLN.Status\n\n# Export results images\n\nTree.Activate([TOT_DEF1])\nExtAPI.Graphics.ViewOptions.ResultPreference.ExtraModelDisplay = (\n    Ansys.Mechanical.DataModel.MechanicalEnums.Graphics.ExtraModelDisplay.NoWireframe\n)\nExtAPI.Graphics.ExportImage(\n    os.path.join(project_directory, \"deformation.png\"), image_export_format, settings_720p\n)\n\nTree.Activate([EQV_STRS1])\nExtAPI.Graphics.ExportImage(\n    os.path.join(project_directory, \"stress.png\"), image_export_format, settings_720p\n)\n\nTree.Activate([EQV_PLAS_STRN1])\nExtAPI.Graphics.ExportImage(\n    os.path.join(project_directory, \"plastic_strain.png\"), image_export_format, settings_720p\n)\n\"\"\"\n)\n\n# Download the results images to local directory\nmechanical.download(files=os.path.join(project_directory, \"deformation.png\"), target_dir=OUTPUT_DIR)\nmechanical.download(files=os.path.join(project_directory, \"stress.png\"), target_dir=OUTPUT_DIR)\nmechanical.download(\n    files=os.path.join(project_directory, \"plastic_strain.png\"), target_dir=OUTPUT_DIR\n)\n\n# Deformation\nif GRAPHICS_BOOL:\n    display_image(\"deformation.png\")\n\n\n# Stress\nif GRAPHICS_BOOL:\n    display_image(\"stress.png\")\n\n\n# Plastic strain\nif GRAPHICS_BOOL:\n    display_image(\"plastic_strain.png\")\n\n\n# ###############################################################################\n# Close the Mechanical\n# --------------------\n#\nmechanical.exit()"
      ]
    }
  ],
  "metadata": {
    "kernelspec": {
      "display_name": "Python 3",
      "language": "python",
      "name": "python3"
    },
    "language_info": {
      "codemirror_mode": {
        "name": "ipython",
        "version": 3
      },
      "file_extension": ".py",
      "mimetype": "text/x-python",
      "name": "python",
      "nbconvert_exporter": "python",
      "pygments_lexer": "ipython3",
      "version": "3.12.11"
    }
  },
  "nbformat": 4,
  "nbformat_minor": 0
}