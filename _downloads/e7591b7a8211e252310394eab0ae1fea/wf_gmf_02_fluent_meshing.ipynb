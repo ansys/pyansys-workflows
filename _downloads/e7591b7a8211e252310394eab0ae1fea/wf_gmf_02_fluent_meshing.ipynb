{
  "cells": [
    {
      "cell_type": "markdown",
      "metadata": {},
      "source": [
        "\n\n# Mesh generation\n\nThis example demonstrates how to generate a mesh for a NACA airfoil using Fluent Meshing.\n\nStarting from the geometry created in the previous example, the script generates a mesh\nusing Fluent Meshing. The parameters are set to generate a mesh with a surface mesh size\nof 2 and 1000, and a volume mesh size of 512. It leverages the Fluent Meshing Workflow\nAPI to create the mesh.\n"
      ]
    },
    {
      "cell_type": "code",
      "execution_count": null,
      "metadata": {
        "collapsed": false
      },
      "outputs": [],
      "source": [
        "import os\n\nimport ansys.fluent.core as pyfluent"
      ]
    },
    {
      "cell_type": "markdown",
      "metadata": {},
      "source": [
        "## Parameters for the script\nThe following parameters are used to control the script execution. You can\nmodify these parameters to suit your needs.\n\n\n"
      ]
    },
    {
      "cell_type": "code",
      "execution_count": null,
      "metadata": {
        "collapsed": false
      },
      "outputs": [],
      "source": [
        "# NACA 4-digits airfoil geometry\nNACA_AIRFOIL = \"6412\"\n\n# Data directory\nDATA_DIR = os.path.join(os.path.dirname(__file__), \"outputs\")"
      ]
    },
    {
      "cell_type": "markdown",
      "metadata": {},
      "source": [
        "## Generate the mesh\nThe function `generate_mesh` generates a mesh for a NACA airfoil using Fluent Meshing.\nThe function takes the following parameters:\n\n- `naca_airfoil`: NACA 4-digits airfoil number.\n- `data_dir`: Directory to save the mesh file.\n- `ui_mode`: User interface mode. The default is None.\n- `container_dict`: Configuration for the Fluent container. The default is None.\n\nThe function launches Fluent Meshing and initializes the workflow for watertight geometry.\nIt imports the geometry, generates the surface mesh, describes the geometry, updates\nboundaries and regions, adds boundary layers, generates the volume mesh, checks the mesh,\nwrites the mesh, and closes Fluent Meshing.\n\n\n"
      ]
    },
    {
      "cell_type": "code",
      "execution_count": null,
      "metadata": {
        "collapsed": false
      },
      "outputs": [],
      "source": [
        "def generate_mesh(\n    naca_airfoil: str,\n    data_dir: str,\n    ui_mode: str | None = None,\n    container_dict: dict | None = None,\n):\n    \"\"\"\n    Generate a mesh for a NACA airfoil using Fluent Meshing.\n\n    Parameters\n    ----------\n    naca_airfoil : str\n        NACA 4-digits airfoil number.\n    data_dir : str\n        Directory to save the mesh file.\n    ui_mode : str, optional\n        User interface mode. The default is None.\n    container_dict : dict, optional\n        Configuration for the Fluent container. The default is None.\n    \"\"\"\n\n    # Launch Fluent Meshing\n    if container_dict is not None:\n        meshing = pyfluent.launch_fluent(\n            container_dict=container_dict,\n            start_container=True,\n            precision=\"double\",\n            processor_count=4,\n            mode=\"meshing\",\n            ui_mode=\"no_gui_or_graphics\",\n            cwd=data_dir,\n            cleanup_on_exit=False,\n            start_timeout=300,\n        )\n    else:\n        meshing = pyfluent.launch_fluent(\n            precision=\"double\",\n            processor_count=4,\n            mode=\"meshing\",\n            ui_mode=ui_mode,\n            cwd=data_dir,\n        )\n\n    # Initialize workflow - Watertight Geometry\n    meshing.workflow.InitializeWorkflow(WorkflowType=\"Watertight Geometry\")\n\n    # Import the geometry\n    geo_import = meshing.workflow.TaskObject[\"Import Geometry\"]\n    geo_import.Arguments.set_state(\n        {\n            \"FileName\": os.path.join(data_dir, f\"NACA_Airfoil_{naca_airfoil}.pmdb\"),\n        }\n    )\n    geo_import.Execute()\n\n    # Generate surface mesh\n    surface_mesh_gen = meshing.workflow.TaskObject[\"Generate the Surface Mesh\"]\n    surface_mesh_gen.Arguments.set_state(\n        {\"CFDSurfaceMeshControls\": {\"MaxSize\": 1000, \"MinSize\": 2}}\n    )\n    surface_mesh_gen.Execute()\n\n    # Describe the geometry\n    describe_geo = meshing.workflow.TaskObject[\"Describe Geometry\"]\n    describe_geo.UpdateChildTasks(SetupTypeChanged=False)\n    describe_geo.Arguments.set_state(\n        {\"SetupType\": \"The geometry consists of only fluid regions with no voids\"}\n    )\n    describe_geo.UpdateChildTasks(SetupTypeChanged=True)\n    describe_geo.Execute()\n\n    # Update boundaries\n    meshing.workflow.TaskObject[\"Update Boundaries\"].Execute()\n\n    # Update regions\n    meshing.workflow.TaskObject[\"Update Regions\"].Execute()\n\n    # Add boundary layers\n    add_boundary_layer = meshing.workflow.TaskObject[\"Add Boundary Layers\"]\n    add_boundary_layer.Arguments.set_state({\"NumberOfLayers\": 12})\n    add_boundary_layer.AddChildAndUpdate()\n\n    # Generate volume mesh\n    volume_mesh_gen = meshing.workflow.TaskObject[\"Generate the Volume Mesh\"]\n    volume_mesh_gen.Arguments.set_state(\n        {\n            \"VolumeFill\": \"poly-hexcore\",\n            \"VolumeFillControls\": {\"HexMaxCellLength\": 512},\n            \"VolumeMeshPreferences\": {\n                \"CheckSelfProximity\": \"yes\",\n                \"ShowVolumeMeshPreferences\": True,\n            },\n        }\n    )\n    volume_mesh_gen.Execute()\n\n    # Check mesh\n    meshing.tui.mesh.check_mesh()\n\n    # Write mesh\n    meshing.tui.file.write_mesh(os.path.join(data_dir, f\"NACA_Airfoil_{naca_airfoil}.msh.h5\"))\n\n    # Close Fluent Meshing\n    meshing.exit()"
      ]
    },
    {
      "cell_type": "markdown",
      "metadata": {},
      "source": [
        "## Executing the mesh generation\nThe previous function is called to generate the mesh for the NACA airfoil.\nThe mesh is saved in the `outputs` directory. Depending on the environment,\nthe script will run in a container or locally.\n\nDepending on the environment, the script will run in a container or locally.\n\n\n"
      ]
    },
    {
      "cell_type": "code",
      "execution_count": null,
      "metadata": {
        "collapsed": false
      },
      "outputs": [],
      "source": [
        "if os.getenv(\"PYANSYS_WORKFLOWS_CI\") == \"true\":\n    command_list = os.getenv(\"FLUENT_DOCKER_EXEC_COMMAND\").split()\n    command_list.append(\"-meshing\")\n    container_dict = {\n        \"fluent_image\": os.getenv(\"FLUENT_DOCKER_IMAGE\"),\n        \"command\": command_list,\n        \"mount_source\": DATA_DIR,\n    }\n    # https://fluent.docs.pyansys.com/version/stable/api/general/launcher/fluent_container.html\n    generate_mesh(NACA_AIRFOIL, \"/home/container/workdir\", container_dict=container_dict)\nelse:\n    generate_mesh(NACA_AIRFOIL, DATA_DIR)"
      ]
    }
  ],
  "metadata": {
    "kernelspec": {
      "display_name": "Python 3",
      "language": "python",
      "name": "python3"
    },
    "language_info": {
      "codemirror_mode": {
        "name": "ipython",
        "version": 3
      },
      "file_extension": ".py",
      "mimetype": "text/x-python",
      "name": "python",
      "nbconvert_exporter": "python",
      "pygments_lexer": "ipython3",
      "version": "3.12.11"
    }
  },
  "nbformat": 4,
  "nbformat_minor": 0
}