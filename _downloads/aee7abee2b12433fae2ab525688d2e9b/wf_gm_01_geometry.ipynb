{
  "cells": [
    {
      "cell_type": "markdown",
      "metadata": {},
      "source": [
        "\n\n# Geometry generation\n\nThis example shows how to generate a CAD file using PyAnsys Geometry via\nthe Ansys Geometry Service. The example demonstrates how to create a sketch,\nperform modeling operations, and export the file in different formats (in this\nspecific case, FMD).\n"
      ]
    },
    {
      "cell_type": "code",
      "execution_count": null,
      "metadata": {
        "collapsed": false
      },
      "outputs": [],
      "source": [
        "import os\nfrom pathlib import Path\n\nfrom ansys.geometry.core import launch_modeler\nfrom ansys.geometry.core.connection import GEOMETRY_SERVICE_DOCKER_IMAGE, GeometryContainers\nfrom ansys.geometry.core.designer import DesignFileFormat\nfrom ansys.geometry.core.math import Point2D\nfrom ansys.geometry.core.misc import DEFAULT_UNITS, UNITS, Distance\nfrom ansys.geometry.core.sketch import Sketch"
      ]
    },
    {
      "cell_type": "markdown",
      "metadata": {},
      "source": [
        "## Preparing the environment\nThis section is only necessary for workflow runs and docs generation. It checks\nthe environment variables to determine which image to use for the geometry service.\nIf you are running this script outside of a workflow, you can ignore this section.\n\n\n"
      ]
    },
    {
      "cell_type": "code",
      "execution_count": null,
      "metadata": {
        "collapsed": false
      },
      "outputs": [],
      "source": [
        "image = None\nif \"ANSYS_GEOMETRY_RELEASE\" in os.environ:\n    image_tag = os.environ[\"ANSYS_GEOMETRY_RELEASE\"]\n    for geom_services in GeometryContainers:\n        if image_tag == f\"{GEOMETRY_SERVICE_DOCKER_IMAGE}:{geom_services.value[2]}\":\n            print(f\"Using {image_tag} image\")\n            image = geom_services\n            break"
      ]
    },
    {
      "cell_type": "markdown",
      "metadata": {},
      "source": [
        "## Parameters for the script\nThe following parameters are used to control the script execution. You can\nmodify these parameters to suit your needs.\n\n\n"
      ]
    },
    {
      "cell_type": "code",
      "execution_count": null,
      "metadata": {
        "collapsed": false
      },
      "outputs": [],
      "source": [
        "GRAPHICS_BOOL = False  # Set to True to display the graphics\nOUTPUT_DIR = Path(Path(__file__).parent, \"outputs\")  # Output directory"
      ]
    },
    {
      "cell_type": "markdown",
      "metadata": {},
      "source": [
        "## Start a modeler session\nStart a modeler session to interact with the Ansys Geometry Service. The\nmodeler object is used to create designs, sketches, and perform modeling\noperations.\n\n\n"
      ]
    },
    {
      "cell_type": "code",
      "execution_count": null,
      "metadata": {
        "collapsed": false
      },
      "outputs": [],
      "source": [
        "modeler = launch_modeler(image=image)\nprint(modeler)"
      ]
    },
    {
      "cell_type": "markdown",
      "metadata": {},
      "source": [
        "## Create a sketch\nCreate a sketch to define the geometry. The sketch is created in the XY plane\nand contains a rectangle and four circles.\n\n\n"
      ]
    },
    {
      "cell_type": "code",
      "execution_count": null,
      "metadata": {
        "collapsed": false
      },
      "outputs": [],
      "source": [
        "# Define default length units\nDEFAULT_UNITS.LENGTH = UNITS.cm\n\n# Define the radius of the outer holes\nouter_hole_radius = Distance(0.5)\n\nsketch = Sketch()\n(\n    sketch.segment(start=Point2D([-4, 5]), end=Point2D([4, 5]))\n    .segment_to_point(end=Point2D([4, -5]))\n    .segment_to_point(end=Point2D([-4, -5]))\n    .segment_to_point(end=Point2D([-4, 5]))\n    .box(\n        center=Point2D([0, 0]),\n        width=Distance(3),\n        height=Distance(3),\n    )\n    .circle(center=Point2D([3, 4]), radius=outer_hole_radius)\n    .circle(center=Point2D([-3, -4]), radius=outer_hole_radius)\n    .circle(center=Point2D([-3, 4]), radius=outer_hole_radius)\n    .circle(center=Point2D([3, -4]), radius=outer_hole_radius)\n)"
      ]
    },
    {
      "cell_type": "markdown",
      "metadata": {},
      "source": [
        "## Modeling operations\nNow that the sketch is ready to be extruded, perform some modeling operations,\nincluding creating the design, creating the body directly on the design, and\nplotting the body.\n\n\n"
      ]
    },
    {
      "cell_type": "code",
      "execution_count": null,
      "metadata": {
        "collapsed": false
      },
      "outputs": [],
      "source": [
        "# Start by creating the design\ndesign = modeler.create_design(\"ModelingDemo\")\n\n# Create a body directly on the design by extruding the sketch\nbody = design.extrude_sketch(name=\"Design_Body\", sketch=sketch, distance=Distance(1))\n\n# Plot the body\nif GRAPHICS_BOOL:\n    design.plot()"
      ]
    },
    {
      "cell_type": "markdown",
      "metadata": {},
      "source": [
        "## Export the design\n\nOnce modeling operations are finalized, you can export files\nin different formats. For the formats supported by DMS, see the\n``DesignFileFormat`` class in the ``Design`` module documentation.\n\nIn this example, we will export files in SCDOCX and FMD formats.\n\n"
      ]
    },
    {
      "cell_type": "code",
      "execution_count": null,
      "metadata": {
        "collapsed": false
      },
      "outputs": [],
      "source": [
        "# Download the design in FMD format\nOUTPUT_DIR.mkdir(exist_ok=True)\ndownload_file = Path(OUTPUT_DIR, \"modeling_demo.fmd\")\ndesign.download(file_location=download_file, format=DesignFileFormat.FMD)"
      ]
    },
    {
      "cell_type": "markdown",
      "metadata": {},
      "source": [
        "## Close session\n\nWhen you finish interacting with your modeling service, you should close the active\nserver session. This frees resources wherever the service is running.\n\n\n"
      ]
    },
    {
      "cell_type": "code",
      "execution_count": null,
      "metadata": {
        "collapsed": false
      },
      "outputs": [],
      "source": [
        "# Close the server session.\nmodeler.close()"
      ]
    }
  ],
  "metadata": {
    "kernelspec": {
      "display_name": "Python 3",
      "language": "python",
      "name": "python3"
    },
    "language_info": {
      "codemirror_mode": {
        "name": "ipython",
        "version": 3
      },
      "file_extension": ".py",
      "mimetype": "text/x-python",
      "name": "python",
      "nbconvert_exporter": "python",
      "pygments_lexer": "ipython3",
      "version": "3.12.7"
    }
  },
  "nbformat": 4,
  "nbformat_minor": 0
}