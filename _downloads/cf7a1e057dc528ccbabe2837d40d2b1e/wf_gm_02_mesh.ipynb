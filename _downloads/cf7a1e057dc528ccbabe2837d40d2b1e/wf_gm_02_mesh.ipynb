{
  "cells": [
    {
      "cell_type": "markdown",
      "metadata": {},
      "source": [
        "\n\n# Mesh generation\n\nThis example shows how to generate a mesh from a CAD model. The CAD model is\nimported from a file, and the mesh is generated using the Ansys PRIME API.\n"
      ]
    },
    {
      "cell_type": "code",
      "execution_count": null,
      "metadata": {
        "collapsed": false
      },
      "outputs": [],
      "source": [
        "import os\nfrom pathlib import Path\n\nfrom ansys.meshing import prime\nfrom ansys.meshing.prime.graphics import Graphics"
      ]
    },
    {
      "cell_type": "markdown",
      "metadata": {},
      "source": [
        "## Parameters for the script\nThe following parameters are used to control the script execution. You can\nmodify these parameters to suit your needs.\n\n\n"
      ]
    },
    {
      "cell_type": "code",
      "execution_count": null,
      "metadata": {
        "collapsed": false
      },
      "outputs": [],
      "source": [
        "GRAPHICS_BOOL = False  # Set to True to display the graphics\nOUTPUT_DIR = Path(Path(__file__).parent, \"outputs\")  # Output directory"
      ]
    },
    {
      "cell_type": "markdown",
      "metadata": {},
      "source": [
        "## Start a PRIME session\nStart a PRIME session and get the model from the client.\n\n\n"
      ]
    },
    {
      "cell_type": "code",
      "execution_count": null,
      "metadata": {
        "collapsed": false
      },
      "outputs": [],
      "source": [
        "prime_client = prime.launch_prime(timeout=120)\nprint(prime_client)\n\n# Get the model from the client\nmodel = prime_client.model"
      ]
    },
    {
      "cell_type": "markdown",
      "metadata": {},
      "source": [
        "## Load the CAD file\nLoad the CAD file from the previous example. The file is loaded into the\nmodel, and the part is extracted. The part is then summarized to get the\ndetails of the part.\n\n"
      ]
    },
    {
      "cell_type": "code",
      "execution_count": null,
      "metadata": {
        "collapsed": false
      },
      "outputs": [],
      "source": [
        "# Load the FMD file\nmodeling_file = Path(OUTPUT_DIR, \"modeling_demo.fmd\")\nfile_io = prime.FileIO(model)\nfile_io.import_cad(\n    file_name=modeling_file,\n    params=prime.ImportCadParams(\n        model=model,\n    ),\n)\n\n# Review the part\npart = model.get_part_by_name(\"modelingdemo\")\npart_summary_res = part.get_summary(prime.PartSummaryParams(model, print_mesh=False))\nprint(part_summary_res)\n\nif GRAPHICS_BOOL:\n    display = Graphics(model=model)\n    display()"
      ]
    },
    {
      "cell_type": "markdown",
      "metadata": {},
      "source": [
        "## Mesh generation\nThe mesh is generated using the Ansys PRIME API. The mesh is generated using\nthe following steps:\n\n1. Initialize the connection tolerance and other parameters.\n2. Scaffold the part.\n3. Mesh the surfaces.\n4. Write the mesh to a file.\n\n\n"
      ]
    },
    {
      "cell_type": "code",
      "execution_count": null,
      "metadata": {
        "collapsed": false
      },
      "outputs": [],
      "source": [
        "# Initialize the connection tolerance and other parameters --\n#\n# Target element size\nelement_size = 0.5\n\n# Initialize the parameters\nparams = prime.ScaffolderParams(\n    model,\n    absolute_dist_tol=0.1 * element_size,\n    intersection_control_mask=prime.IntersectionMask.FACEFACEANDEDGEEDGE,\n    constant_mesh_size=element_size,\n)\n\n# Get existing topoface or topoedge IDs\nfaces = part.get_topo_faces()\nbeams = []\n\nscaffold_res = prime.Scaffolder(model, part.id).scaffold_topo_faces_and_beams(\n    topo_faces=faces, topo_beams=beams, params=params\n)\nprint(scaffold_res)"
      ]
    },
    {
      "cell_type": "markdown",
      "metadata": {},
      "source": [
        "## Surface meshing\nThe surface mesh is generated using the previous element size and the\ntopological faces of the part.\n\n\n"
      ]
    },
    {
      "cell_type": "code",
      "execution_count": null,
      "metadata": {
        "collapsed": false
      },
      "outputs": [],
      "source": [
        "surfer_params = prime.SurferParams(\n    model=model,\n    size_field_type=prime.SizeFieldType.CONSTANT,\n    constant_size=element_size,\n    generate_quads=True,\n)\n\nsurfer_result = prime.Surfer(model).mesh_topo_faces(part.id, topo_faces=faces, params=surfer_params)\n\n# Display the mesh\nif GRAPHICS_BOOL:\n    display = Graphics(model=model)\n    display()"
      ]
    },
    {
      "cell_type": "markdown",
      "metadata": {},
      "source": [
        "## Export the mesh\nThe mesh is exported to a CDB file. The CDB file can be used to create a\nMAPDL case.\n\n\n"
      ]
    },
    {
      "cell_type": "code",
      "execution_count": null,
      "metadata": {
        "collapsed": false
      },
      "outputs": [],
      "source": [
        "mapdl_cdb = Path(OUTPUT_DIR, \"modeling_demo.cdb\")\nfile_io.export_mapdl_cdb(mapdl_cdb, params=prime.ExportMapdlCdbParams(model))\nassert os.path.exists(mapdl_cdb)\nprint(f\"MAPDL case exported at {mapdl_cdb}\")"
      ]
    },
    {
      "cell_type": "markdown",
      "metadata": {},
      "source": [
        "## Close the PRIME session\nClose the PRIME session to release the resources. This is important to\nprevent memory leaks.\n\n"
      ]
    },
    {
      "cell_type": "code",
      "execution_count": null,
      "metadata": {
        "collapsed": false
      },
      "outputs": [],
      "source": [
        "prime_client.exit()"
      ]
    }
  ],
  "metadata": {
    "kernelspec": {
      "display_name": "Python 3",
      "language": "python",
      "name": "python3"
    },
    "language_info": {
      "codemirror_mode": {
        "name": "ipython",
        "version": 3
      },
      "file_extension": ".py",
      "mimetype": "text/x-python",
      "name": "python",
      "nbconvert_exporter": "python",
      "pygments_lexer": "ipython3",
      "version": "3.12.12"
    }
  },
  "nbformat": 4,
  "nbformat_minor": 0
}