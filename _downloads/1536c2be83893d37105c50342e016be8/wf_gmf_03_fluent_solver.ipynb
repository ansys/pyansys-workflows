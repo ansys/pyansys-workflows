{
  "cells": [
    {
      "cell_type": "markdown",
      "metadata": {},
      "source": [
        "\n\n# Fluids simulation\n\nThis example demonstrates how to solve the flow around a NACA airfoil using Fluent.\n\nStarting from the mesh created in the previous example, the script solves the\nflow around a NACA airfoil using Fluent. The parameters are set to solve the flow\nwith a Mach number of 0.3, a temperature of 255.56 K, an angle of attack of 3.06 degrees,\nand a pressure of 80600 Pa. Overall, these are the conditions for a compressible flow.\n"
      ]
    },
    {
      "cell_type": "code",
      "execution_count": null,
      "metadata": {
        "collapsed": false
      },
      "outputs": [],
      "source": [
        "import os\n\nimport ansys.fluent.core as pyfluent\nimport numpy as np"
      ]
    },
    {
      "cell_type": "markdown",
      "metadata": {},
      "source": [
        "## Parameters for the script\nThe following parameters are used to control the script execution. You can\nmodify these parameters to suit your needs.\n\n\n"
      ]
    },
    {
      "cell_type": "code",
      "execution_count": null,
      "metadata": {
        "collapsed": false
      },
      "outputs": [],
      "source": [
        "# NACA 4-digits airfoil geometry\nNACA_AIRFOIL = \"6412\"\n\n# Data directory\nDATA_DIR = os.path.join(os.path.dirname(__file__), \"outputs\")\n\n# Simulation parameters\nSIM_MACH = 0.3  # 0.8395 # Mach number\nSIM_TEMPERATURE = 255.56  # In Kelvin\nSIM_AOA = 3.06  # in degrees\nSIM_PRESSURE = 80600  # in Pa"
      ]
    },
    {
      "cell_type": "markdown",
      "metadata": {},
      "source": [
        "## Solve the flow around the airfoil\nThe function `solve_airfoil_flow` solves the flow around a NACA airfoil using Fluent.\nThe function takes the following parameters:\n\n- `naca_airfoil`: NACA 4-digits airfoil number.\n- `sim_mach`: Mach number.\n- `sim_temperature`: Temperature in Kelvin.\n- `sim_aoa`: Angle of attack in degrees.\n- `sim_pressure`: Pressure in Pascal.\n- `data_dir`: Directory to save the mesh file.\n- `container_dict`: Configuration for the Fluent container. The default is None.\n- `iter_count`: Number of iterations to solve. The default is ``25``.\n- `ui_mode`: User interface mode. The default is None.\n\nThe function switches to the Fluent solver and loads the mesh. It defines the model,\nmaterial, boundary conditions, operating conditions, initializes the flow field,\nsaves the case file, solves for the requested iterations, and exits Fluent.\n\n\n"
      ]
    },
    {
      "cell_type": "code",
      "execution_count": null,
      "metadata": {
        "collapsed": false
      },
      "outputs": [],
      "source": [
        "def solve_airfoil_flow(\n    naca_airfoil: str,\n    sim_mach: float,\n    sim_temperature: float,\n    sim_aoa: float,\n    sim_pressure: float,\n    data_dir: str,\n    container_dict: dict | None = None,\n    iter_count: int = 25,\n    ui_mode: str | None = None,\n):\n    \"\"\"\n    Solve the flow around a NACA airfoil using Fluent.\n\n    Parameters\n    ----------\n    naca_airfoil : str\n        NACA 4-digits airfoil number.\n    sim_mach : float\n        Mach number.\n    sim_temperature : float\n        Temperature in Kelvin.\n    sim_aoa : float\n        Angle of attack in degrees.\n    sim_pressure : float\n        Pressure in Pascal.\n    data_dir : str\n        Directory to save the mesh file.\n    container_dict : dict, optional\n        Configuration for the Fluent container. The default is None.\n    iter_count : int, optional\n        Number of iterations to solve. The default is ``25``.\n    ui_mode : str, optional\n        User interface mode. The default is None.\n    \"\"\"\n\n    # Switch to Fluent solver\n    if container_dict is not None:\n        solver = pyfluent.launch_fluent(\n            container_dict=container_dict,\n            start_container=True,\n            precision=\"double\",\n            processor_count=4,\n            mode=\"solver\",\n            ui_mode=\"no_gui_or_graphics\",\n            cwd=data_dir,\n            cleanup_on_exit=False,\n            start_timeout=300,\n        )\n    else:\n        solver = pyfluent.launch_fluent(\n            precision=\"double\",\n            processor_count=4,\n            mode=\"solver\",\n            ui_mode=ui_mode,\n            cwd=data_dir,\n        )\n\n    # Load mesh\n    solver.file.read_mesh(file_name=f\"{data_dir}/NACA_Airfoil_{naca_airfoil}.msh.h5\")\n\n    # Verify the mesh\n    solver.mesh.check()\n\n    # Define the model\n    # model : k-omega\n    # k-omega model : sst\n    viscous = solver.setup.models.viscous\n    viscous.model = \"k-omega\"\n    viscous.k_omega_model = \"sst\"\n\n    # Define material\n    #\n    # density : ideal-gas\n    # viscosity : sutherland\n    # viscosity method : three-coefficient-method\n    # reference viscosity : 1.716e-05 [kg/(m s)]\n    # reference temperature : 273.11 [K]\n    # effective temperature : 110.56 [K]\n    air = solver.setup.materials.fluid[\"air\"]\n    air.density.option = \"ideal-gas\"\n    air.viscosity.option = \"sutherland\"\n    air.viscosity.sutherland.option = \"three-coefficient-method\"\n    air.viscosity.sutherland.reference_viscosity = 1.716e-05\n    air.viscosity.sutherland.reference_temperature = 273.11\n    air.viscosity.sutherland.effective_temperature = 110.56\n\n    # Define Boundary conditions\n    #\n    # gauge pressure : 0 [Pa]\n    # turbulent intensity : 5 [%]solve\n    # turbulent viscosity ratio : 10\n    #\n    solver.setup.boundary_conditions.set_zone_type(\n        zone_list=[\"inlet-fluid\"], new_type=\"pressure-far-field\"\n    )\n\n    inlet_fluid = solver.setup.boundary_conditions.pressure_far_field[\"inlet-fluid\"]\n    aoa = np.deg2rad(sim_aoa)\n    if solver.get_fluent_version() < pyfluent.FluentVersion.v242:\n        inlet_fluid.gauge_pressure = 0\n        inlet_fluid.m = sim_mach\n        inlet_fluid.t = sim_temperature\n        inlet_fluid.flow_direction[0] = np.cos(aoa)\n        inlet_fluid.flow_direction[1] = np.sin(aoa)\n        inlet_fluid.turbulent_intensity = 0.05\n        inlet_fluid.turbulent_viscosity_ratio_real = 10\n\n    else:\n        inlet_fluid.momentum.gauge_pressure = 0\n        inlet_fluid.momentum.mach_number = sim_mach\n        inlet_fluid.thermal.temperature = sim_temperature\n        inlet_fluid.momentum.flow_direction[0] = np.cos(aoa)\n        inlet_fluid.momentum.flow_direction[1] = np.sin(aoa)\n        inlet_fluid.turbulence.turbulent_intensity = 0.05\n        inlet_fluid.turbulence.turbulent_viscosity_ratio = 10\n\n    # Define operating conditions\n    #\n    solver.setup.general.operating_conditions.operating_pressure = sim_pressure\n\n    # Initialize flow field\n    solver.solution.initialization.hybrid_initialize()\n\n    # Save case file\n    solver.file.write(\n        file_name=f\"{data_dir}/NACA_Airfoil_{naca_airfoil}_initialization.cas.h5\",\n        file_type=\"case\",\n    )\n\n    # Solve for requested iterations\n    solver.solution.run_calculation.iterate(iter_count=iter_count)\n    solver.file.write(\n        file_name=f\"{data_dir}/NACA_Airfoil_{naca_airfoil}_resolved.cas.h5\",\n        file_type=\"case\",\n    )\n    # Write data file as well\n    solver.file.write(\n        file_name=f\"{data_dir}/NACA_Airfoil_{naca_airfoil}_resolved.dat.h5\",\n        file_type=\"data\",\n    )\n\n    # Exit Fluent\n    solver.exit()"
      ]
    },
    {
      "cell_type": "markdown",
      "metadata": {},
      "source": [
        "## Executing the mesh generation\nThe previous function is called to generate the mesh for the NACA airfoil.\nThe mesh is saved in the `outputs` directory. Depending on the environment,\nthe script will run in a container or locally.\n\nDepending on the environment, the script will run in a container or locally.\n\n\n"
      ]
    },
    {
      "cell_type": "code",
      "execution_count": null,
      "metadata": {
        "collapsed": false
      },
      "outputs": [],
      "source": [
        "if os.getenv(\"PYANSYS_WORKFLOWS_CI\") == \"true\":\n    container_dict = {\n        \"fluent_image\": os.getenv(\"FLUENT_DOCKER_IMAGE\"),\n        \"command\": os.getenv(\"FLUENT_DOCKER_EXEC_COMMAND\").split(),\n        \"mount_source\": DATA_DIR,\n    }\n    # https://fluent.docs.pyansys.com/version/stable/api/general/launcher/fluent_container.html\n    # Solve the flow around the airfoil\n    solve_airfoil_flow(\n        NACA_AIRFOIL,\n        SIM_MACH,\n        SIM_TEMPERATURE,\n        SIM_AOA,\n        SIM_PRESSURE,\n        \"/home/container/workdir\",\n        container_dict=container_dict,\n    )\nelse:\n    # Solve the flow around the airfoil\n    solve_airfoil_flow(NACA_AIRFOIL, SIM_MACH, SIM_TEMPERATURE, SIM_AOA, SIM_PRESSURE, DATA_DIR)"
      ]
    }
  ],
  "metadata": {
    "kernelspec": {
      "display_name": "Python 3",
      "language": "python",
      "name": "python3"
    },
    "language_info": {
      "codemirror_mode": {
        "name": "ipython",
        "version": 3
      },
      "file_extension": ".py",
      "mimetype": "text/x-python",
      "name": "python",
      "nbconvert_exporter": "python",
      "pygments_lexer": "ipython3",
      "version": "3.12.11"
    }
  },
  "nbformat": 4,
  "nbformat_minor": 0
}