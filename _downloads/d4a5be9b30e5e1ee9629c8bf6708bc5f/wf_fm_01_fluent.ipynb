{
  "cells": [
    {
      "cell_type": "markdown",
      "metadata": {},
      "source": [
        "\n\n# Conjugate Heat Transfer Workflow for Exhaust Manifold\n\nThis workflow demonstrates the typical solver setup involved in performing a CFD\nsimulation for the conjugate heat transfer (CHT) analysis of an exhaust manifold.\nA conjugate heat transfer analysis is a type of simulation that involves the\nsimultaneous solution of heat transfer in both solid and fluid domains. In this\ncase, the exhaust manifold is a solid domain, and the fluid domain is the gas\nflowing through the manifold. The heat transfer between the solid and fluid domains\nis modeled using the heat transfer coefficient (HTC) at the interface between the two\ndomains.\nThis workflow provides a step-by-step guide to set up a CHT analysis for an exhaust\nmanifold using Ansys Fluent PyFluent APIs. The workflow includes usage of APIs to\nsetup the physics, material properties, boundary conditions, solver settings, and\nexporting the results to a CSV file for further use in a Thermo-Mechanical Analysis.\n\n## Problem Description\n\nThe geometry is an exhaust manifold with a fluid domain (gas) and a solid domain(metal)\nmeshed with a conformal Polyhedral mesh.The hot gas flows through the manifold,\nand the heat is transferred to the solid domain. The objective is to calculate the\nheat transfer coefficient (HTC) at the interface between the fluid and solid domains,\nthe temperature distribution in the solid domain, and export the results to a CSV\nfile for further use in a Thermo-Mechanical Analysis.\n\nThe workflow includes the following steps:\n- Launch Fluent\n- Load the mesh file\n- Define the material properties\n- Define the boundary conditions\n- Define the solver settings\n- Initialize the solution\n- Run the solver\n- Export the results to CSV file\n- Close Fluent\n\nThis workflow will generate the following files as output:\n- exhaust_manifold_results_HIGH_TEMP.cas.h5\n- exhaust_manifold_results_MEDIUM_TEMP.cas.h5\n- exhaust_manifold_results_LOW_TEMP.cas.h5\n- exhaust_manifold_results_HIGH_TEMP.dat.h5\n- exhaust_manifold_results_MEDIUM_TEMP.dat.h5\n- exhaust_manifold_results_LOW_TEMP.dat.h5\n- htc_temp_mapping_HIGH_TEMP.csv\n- htc_temp_mapping_MEDIUM_TEMP.csv\n- htc_temp_mapping_LOW_TEMP.csv\n- Fluent transcript file (fluent-YYYYMMDD-HHMMSS-<processID>.trn)\n"
      ]
    },
    {
      "cell_type": "code",
      "execution_count": null,
      "metadata": {
        "collapsed": false
      },
      "outputs": [],
      "source": [
        "# Perform required imports\n# ------------------------\n# Perform required imports, which includes downloading the mesh file from the\n# examples.\n\nimport os\nfrom pathlib import PurePosixPath\n\nimport ansys.fluent.core as pyfluent\nfrom ansys.fluent.core import examples\n\n\n# Set to True to display the graphics\nGRAPHICS_BOOL = False\n\n# Output directory\nWORKING_DIR = os.path.join(os.path.dirname(__file__), \"outputs\")\nos.makedirs(WORKING_DIR, exist_ok=True)\n\n\nif GRAPHICS_BOOL:\n    from ansys.fluent.visualization import Contour, GraphicsWindow, config\n    from ansys.units import VariableCatalog\n\n    # Set the graphics configuration\n    config.interactive = False\n    config.view = \"isometric\"\n\nimport_mesh_file = examples.download_file(\n    file_name=\"exhaust_manifold_conf.msh.h5\",\n    directory=\"pyansys-workflow/exhaust-manifold/pyfluent\",\n    save_path=WORKING_DIR,\n)\nprint(import_mesh_file, flush=True)"
      ]
    },
    {
      "cell_type": "markdown",
      "metadata": {},
      "source": [
        "## Launch Fluent\nLaunch Fluent as a service in solver mode with double precision running on\nfour processors and print Fluent version.\n\n\n"
      ]
    },
    {
      "cell_type": "code",
      "execution_count": null,
      "metadata": {
        "collapsed": false
      },
      "outputs": [],
      "source": [
        "if os.getenv(\"PYANSYS_WORKFLOWS_CI\") == \"true\":\n    print(\"Configuring Fluent for CI\", flush=True)\n    container_dict = {\n        \"fluent_image\": os.getenv(\"FLUENT_DOCKER_IMAGE\"),\n        \"command\": os.getenv(\"FLUENT_DOCKER_EXEC_COMMAND\").split(),\n        \"mount_source\": WORKING_DIR,\n    }\n    solver = pyfluent.launch_fluent(\n        precision=\"double\",\n        processor_count=4,\n        mode=\"solver\",\n        container_dict=container_dict,\n        start_timeout=300,\n    )\n\n    FLUENT_WORKING_DIR = \"/home/container/workdir\"\n\n    import_mesh_file = PurePosixPath(FLUENT_WORKING_DIR) / \"exhaust_manifold_conf.msh.h5\"\n    print(f\"\\nImport mesh path for container: {import_mesh_file}\\n\", flush=True)\nelse:\n    solver = pyfluent.launch_fluent(\n        precision=\"double\",\n        processor_count=4,\n        mode=\"solver\",\n        cwd=WORKING_DIR,\n    )\nprint(solver.get_fluent_version(), flush=True)\nprint(f\"Working directory: {WORKING_DIR}\", flush=True)"
      ]
    },
    {
      "cell_type": "markdown",
      "metadata": {},
      "source": [
        "## Read the mesh file\nRead the mesh file into the Fluent solver and check the mesh information.\n\n\n"
      ]
    },
    {
      "cell_type": "code",
      "execution_count": null,
      "metadata": {
        "collapsed": false
      },
      "outputs": [],
      "source": [
        "solver.settings.file.read_mesh(file_name=import_mesh_file)\nsolver.mesh.check()"
      ]
    },
    {
      "cell_type": "markdown",
      "metadata": {},
      "source": [
        "## Define the Physics\nDefine the physics of the problem by setting energy and turbulence models.\n\n\n"
      ]
    },
    {
      "cell_type": "code",
      "execution_count": null,
      "metadata": {
        "collapsed": false
      },
      "outputs": [],
      "source": [
        "solver.settings.setup.models.energy.enabled = True\nsolver.settings.setup.models.viscous.model.allowed_values()\nsolver.settings.setup.models.viscous.model = \"k-epsilon\"\nsolver.settings.setup.models.viscous.k_epsilon_model = \"realizable\"\nsolver.settings.setup.models.viscous.near_wall_treatment.wall_treatment = \"enhanced-wall-treatment\""
      ]
    },
    {
      "cell_type": "markdown",
      "metadata": {},
      "source": [
        "## Define the Material Properties\nDefine the material properties of the fluid, solid and assign the\nmaterial to the appropriate cell zones.\n\n"
      ]
    },
    {
      "cell_type": "code",
      "execution_count": null,
      "metadata": {
        "collapsed": false
      },
      "outputs": [],
      "source": [
        "# Fluid Material Properties\nfluid_mat = solver.settings.setup.materials.fluid[\"air\"]\nfluid_mat.rename(\"fluid-material\")\nfluid_mat = solver.settings.setup.materials.fluid[\"fluid-material\"]\nfluid_mat.density.option = \"ideal-gas\"\nfluid_mat.viscosity.value = 4.25e-05\nfluid_mat.specific_heat.value = 1148\nfluid_mat.thermal_conductivity.value = 0.0686\n\n# Solid Material Properties\nsolid_mat = solver.settings.setup.materials.solid[\"aluminum\"]\nsolid_mat.rename(\"solid-material\")\nsolid_mat = solver.settings.setup.materials.solid[\"solid-material\"]\nsolid_mat.density.value = 8030\nsolid_mat.specific_heat.value = 502.4\nsolid_mat.thermal_conductivity.value = 60.5\n\n# Assign Material to Cell Zones\nif solver.get_fluent_version() < pyfluent.FluentVersion.v242:\n    solver.settings.setup.cell_zone_conditions.fluid[\"fluid\"].material = \"fluid-material\"\n    solver.settings.setup.materials.print_state()\n    solver.settings.setup.cell_zone_conditions.solid[\"solid\"].material = \"solid-material\"\nelse:\n    solver.settings.setup.cell_zone_conditions.fluid[\"*fluid*\"].general.material = \"fluid-material\"\n    solver.settings.setup.materials.print_state()\n    solver.settings.setup.cell_zone_conditions.solid[\"*solid*\"].general.material = \"solid-material\"\n\n# Print the material properties for verification\nsolver.settings.setup.materials.print_state()"
      ]
    },
    {
      "cell_type": "markdown",
      "metadata": {},
      "source": [
        "## Define the Named Expressions\nDefine the named expressions for the boundary conditions.\n\n\n"
      ]
    },
    {
      "cell_type": "code",
      "execution_count": null,
      "metadata": {
        "collapsed": false
      },
      "outputs": [],
      "source": [
        "solver.settings.setup.named_expressions.create(\"in_temperature\")\nsolver.settings.setup.named_expressions[\"in_temperature\"].definition = \"1023.15 [K]\"\nsolver.settings.setup.named_expressions[\"in_temperature\"].input_parameter = True\nsolver.settings.setup.named_expressions.create(\"mass_flow_rate\")\nsolver.settings.setup.named_expressions[\"mass_flow_rate\"].definition = (\n    \"abs((0.1559 [kg/s] *log(in_temperature/(1 [K^1])))-0.9759 [kg/s])\"\n)\n\nsolver.settings.setup.named_expressions.create(\"pressure_out\")\nsolver.settings.setup.named_expressions[\"pressure_out\"].definition = (\n    \"(-0.3383 [Pa]*in_temperature^2/(1 [K^2]))+954.75 [Pa]*in_temperature/(1 [K])-356085 [Pa]\"\n)\n\nsolver.settings.setup.named_expressions.create(\"temperature_out\")\nsolver.settings.setup.named_expressions[\"temperature_out\"].definition = \"in_temperature-23.00 [K]\""
      ]
    },
    {
      "cell_type": "markdown",
      "metadata": {},
      "source": [
        "## Define the Boundary Conditions\nDefine the boundary conditions for the problem.\n\n"
      ]
    },
    {
      "cell_type": "code",
      "execution_count": null,
      "metadata": {
        "collapsed": false
      },
      "outputs": [],
      "source": [
        "# Convection Boundary Condition\n\n# Reference temperature for the convection boundary condition\nref_temp = 200 + 273.15\n\nif solver.get_fluent_version() < pyfluent.FluentVersion.v242:\n    solver.settings.setup.boundary_conditions.wall[\"solid:1\"].thermal.thermal_bc = \"Convection\"\n\n    solver.settings.setup.boundary_conditions.wall[\"solid:1\"].thermal.h.value = 60\n\n    solver.settings.setup.boundary_conditions.wall[\"solid:1\"].thermal.tinf.value = ref_temp\nelse:\n    solver.settings.setup.boundary_conditions.wall[\"solid:1\"].thermal.thermal_condition = (\n        \"Convection\"\n    )\n    solver.settings.setup.boundary_conditions.wall[\"solid:1\"].thermal.heat_transfer_coeff.value = 60\n\n    solver.settings.setup.boundary_conditions.wall[\"solid:1\"].thermal.free_stream_temp.value = (\n        ref_temp\n    )\n\n# Inlet Boundary Conditions\nsolver.settings.setup.boundary_conditions.mass_flow_inlet.list()\n\nfor inlet_bc in solver.settings.setup.boundary_conditions.mass_flow_inlet.keys():\n    solver.settings.setup.boundary_conditions.mass_flow_inlet[\n        inlet_bc\n    ].momentum.mass_flow_rate.value = \"mass_flow_rate\"\n    solver.settings.setup.boundary_conditions.mass_flow_inlet[\n        inlet_bc\n    ].thermal.total_temperature.value = \"in_temperature\"\n\n# Outlet Boundary Conditions\nsolver.settings.setup.boundary_conditions.pressure_outlet.list()\nsolver.settings.setup.boundary_conditions.pressure_outlet[\n    \"pressure_outlet\"\n].momentum.gauge_pressure.value = \"pressure_out\"\n\n\nif solver.get_fluent_version() < pyfluent.FluentVersion.v242:\n    solver.settings.setup.boundary_conditions.pressure_outlet[\n        \"pressure_outlet\"\n    ].thermal.t0.value = \"temperature_out\"\n\nelse:\n    solver.settings.setup.boundary_conditions.pressure_outlet[\n        \"pressure_outlet\"\n    ].thermal.backflow_total_temperature.value = \"temperature_out\""
      ]
    },
    {
      "cell_type": "markdown",
      "metadata": {},
      "source": [
        "## Define the Solution Methods and Solver Settings\nDefine the solution methods and solver settings for the problem.\n\n"
      ]
    },
    {
      "cell_type": "code",
      "execution_count": null,
      "metadata": {
        "collapsed": false
      },
      "outputs": [],
      "source": [
        "# Solution Methods & controls\nsolver.settings.solution.methods.pseudo_time_method.formulation.coupled_solver = \"off\"\nsolver.settings.solution.controls.p_v_controls.flow_courant_number = 50\n\n# Solver Settings initialization & set the iteration count\nsolver.settings.solution.initialization.hybrid_initialize()\nsolver.settings.solution.run_calculation.iter_count = 200"
      ]
    },
    {
      "cell_type": "markdown",
      "metadata": {},
      "source": [
        "## Run the Solver & Export the Results to CSV\nRun the solver to solve the problem and export the results to a CSV file.\nDefine a tuple with temperature values\n\n"
      ]
    },
    {
      "cell_type": "code",
      "execution_count": null,
      "metadata": {
        "collapsed": false
      },
      "outputs": [],
      "source": [
        "temperature_values = (\n    (\"HIGH_TEMP\", 1023.15),\n    (\"MEDIUM_TEMP\", 683.15),\n    (\"LOW_TEMP\", 483.15),\n)\n\n# Retrieve fluid and solid zones\nfluid_zones = list(solver.settings.setup.cell_zone_conditions.fluid.keys())\nsolid_zones = list(solver.settings.setup.cell_zone_conditions.solid.keys())\ncell_zone_names = fluid_zones + solid_zones\n\n# Iterate over the temperature values tuple\nfor temp_name, temp_value in temperature_values:\n    # Running the simulation for each temperature value with initialization and iteration\n    solver.solution.initialization.hybrid_initialize()\n    solver.settings.setup.named_expressions[\"in_temperature\"].definition = f\"{temp_value} [K]\"\n    solver.solution.run_calculation.iterate(iter_count=200)\n\n    # Exporting Data for Thermo-Mechanical Simulation\n    mapping_file = f\"htc_temp_mapping_{temp_name}.csv\"\n    solver.settings.file.export.ascii(\n        file_name=mapping_file,\n        surface_name_list=[\"interface_solid\"],\n        delimiter=\"comma\",\n        cell_func_domain=[\"temperature\", \"heat-transfer-coef-wall\"],\n        location=\"node\",\n    )\n\n    # Export graphics result for the temperature distribution on interface_solid\n    if GRAPHICS_BOOL:\n        print(f\"Generating graphics for temperature contour at {temp_name}\", flush=True)\n        graphics_window = GraphicsWindow()\n        temperature_contour = Contour(\n            solver=solver,\n            field=VariableCatalog.TEMPERATURE,\n            surfaces=[\"interface_solid\"],\n        )\n        graphics_window.add_graphics(temperature_contour)\n        if \"DOC_BUILD\" in os.environ:\n            graphics_window.show()\n        else:\n            graphics_window.save_graphics(\n                filename=f\"{WORKING_DIR}/temp_interface_contour_{temp_name}.svg\"\n            )\n        graphics_window.close()\n\n    solver.settings.file.write_case_data(file_name=f\"exhaust_manifold_results_{temp_name}.cas.h5\")"
      ]
    },
    {
      "cell_type": "markdown",
      "metadata": {},
      "source": [
        "## Exit the Solver\nClose the Fluent solver.\n\n\n"
      ]
    },
    {
      "cell_type": "code",
      "execution_count": null,
      "metadata": {
        "collapsed": false
      },
      "outputs": [],
      "source": [
        "solver.exit()"
      ]
    }
  ],
  "metadata": {
    "kernelspec": {
      "display_name": "Python 3",
      "language": "python",
      "name": "python3"
    },
    "language_info": {
      "codemirror_mode": {
        "name": "ipython",
        "version": 3
      },
      "file_extension": ".py",
      "mimetype": "text/x-python",
      "name": "python",
      "nbconvert_exporter": "python",
      "pygments_lexer": "ipython3",
      "version": "3.12.11"
    }
  },
  "nbformat": 4,
  "nbformat_minor": 0
}