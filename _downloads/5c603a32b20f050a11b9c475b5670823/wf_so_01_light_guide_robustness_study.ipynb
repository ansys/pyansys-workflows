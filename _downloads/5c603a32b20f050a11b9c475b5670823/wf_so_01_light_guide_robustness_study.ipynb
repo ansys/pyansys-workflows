{
  "cells": [
    {
      "cell_type": "markdown",
      "metadata": {},
      "source": [
        "\n\n# Evaluating robustness of exterior lightguide\n\nIn this example, we use Speos and optiSLang to analyze the robustness of a prismatic light\nguide and quantify the failure rate due to production tolerances in an automated way.\nWe will understand which tolerances lead to regulation fails for the automotive\nDay-Time-Running lights and which tolerances must be improved to increase the optical\nperformance. Additionally, we will evaluate the scattering of the homogeneity (RMS-contrast)\nand the lit appearance (average luminance) to see what the worst design looks like due to\ntolerances.\n\n## Problem description\n\nThe optical simulation project includes a lightguide with an LED. During the vehicle assemble\nstep, the relative position of LED can have an impact on the optical performance of the\nlightguide, i.e. RMS-contrast and average luminance.\n\nThe workflow includes the following steps:\n- Definition of the variation analysis boundaries\n- optiSLang Project creation and workflow setup\n- optiSLang project execution\n- Connect to PySpeos server\n- PySpeos execution\n- Result evaluation\n\nThis workflow will generate output as a robustness summary table is printed out to the console.\n"
      ]
    },
    {
      "cell_type": "code",
      "execution_count": null,
      "metadata": {
        "collapsed": false
      },
      "outputs": [],
      "source": [
        "# Perform required imports\n# ------------------------\n\nimport os\nfrom pathlib import Path\nimport time\n\nfrom ansys.optislang.core import Optislang\nimport ansys.optislang.core.node_types as node_types\nfrom ansys.optislang.core.nodes import DesignFlow\nfrom ansys.optislang.core.project_parametric import (\n    ComparisonType,\n    ConstraintCriterion,\n    DistributionType,\n    ObjectiveCriterion,\n    StochasticParameter,\n)\nimport ansys.speos.core as core\nfrom ansys.speos.core import Body, Project\nfrom ansys.speos.core.simulation import SimulationDirect\nfrom ansys.speos.core.source import SourceSurface\nfrom comtypes.client import CreateObject\nimport numpy as np"
      ]
    },
    {
      "cell_type": "markdown",
      "metadata": {},
      "source": [
        "## Definition of the variation analysis boundaries\nThe following parameters are used to control the script execution. You can\nmodify these parameters to suit your needs.\n- tolerance parameter and distributions\n- responses (quality measurements / performance indicator)\n- constraints (quality limits for each performance indicator)\n- the number of designs to be calculated for the robustness analysis\n\n"
      ]
    },
    {
      "cell_type": "code",
      "execution_count": null,
      "metadata": {
        "collapsed": false
      },
      "outputs": [],
      "source": [
        "MAXIMUM_NUMBER_SIMULATIONS: int = 100 if (os.environ.get(\"ON_CI\", \"false\").lower() != \"true\") else 5\n\"\"\"Maximum number of simulations for the robustness analysis.\"\"\"\n\nPARAMETERS: list[dict] = [\n    {\n        \"name\": \"LED_delta_x\",\n        \"value\": 0.0,\n        \"distribution_type\": \"NORMAL\",\n        \"distribution_parameters\": [0, 0.25],  # mean value, standard deviation\n    },\n    {\n        \"name\": \"LED_delta_y\",\n        \"value\": 0.0,\n        \"distribution_type\": \"NORMAL\",\n        \"distribution_parameters\": [0, 0.25],  # mean value, standard deviation\n    },\n    {\n        \"name\": \"LED_delta_z\",\n        \"value\": 0.0,\n        \"distribution_type\": \"NORMAL\",\n        \"distribution_parameters\": [0, 0.25],  # mean value, standard deviation\n    },\n    {\n        \"name\": \"Flux\",\n        \"value\": 200.0,\n        \"distribution_type\": \"TRUNCATEDNORMAL\",\n        \"distribution_parameters\": [\n            300,\n            45,\n            200,\n            400,\n        ],  # mean value, standard deviation, lower bound, upper bound\n    },\n]\n\"\"\"Input parameters and their statistical distributions.\"\"\"\n\nRESPONSES: list[dict] = [\n    {\"name\": \"RMS_contrast\", \"value\": 1.0},\n    {\"name\": \"Average\", \"value\": 120.0},\n    {\"name\": \"Number_of_rules_limited_passed\", \"value\": 0.0},\n    {\"name\": \"Number_of_rules_failed\", \"value\": 0.0},\n]\n\"\"\"Expected responses in the robustness analysis.\"\"\"\n\nCRITERIA: list[dict] = [\n    {\"name\": \"RMS_contrast\", \"type\": \"constraint\", \"limit\": 0.2, \"target\": \"<=\"},\n    {\"name\": \"Average\", \"type\": \"constraint\", \"limit\": 160000, \"target\": \">=\"},\n    {\n        \"name\": \"Number_of_rules_limited_passed\",\n        \"type\": \"constraint\",\n        \"limit\": 2,\n        \"target\": \"<=\",\n    },\n    {\"name\": \"Number_of_rules_failed\", \"type\": \"constraint\", \"limit\": 0, \"target\": \"<=\"},\n]\n\"\"\"Evaluation criteria for the robustness analysis.\"\"\"\n\nVARIATION_ANALYSIS_BOUNDARIES = {\n    \"maximum_number_simulations\": MAXIMUM_NUMBER_SIMULATIONS,\n    \"parameters\": PARAMETERS,\n    \"responses\": RESPONSES,\n    \"criteria\": CRITERIA,\n}\n\"\"\"Variation analysis boundaries for the robustness study.\"\"\"\n\nGRAPHICS_BOOL = False  # Set to True to display the graphics\n\n\nANSYS_RELEASE = os.getenv(\"ANSYS_RELEASE_COMPACT\", \"252\")\n\"\"\"ANSYS release version.\"\"\""
      ]
    },
    {
      "cell_type": "markdown",
      "metadata": {},
      "source": [
        "## Define functions\nThe following functions are defined to perform various tasks in the\nrobustness analysis workflow, such as cleaning databases, displacing faces and bodies,\nopening results, changing source positions and powers, running Speos simulations,\nand creating the optiSLang workflow.\n\n"
      ]
    },
    {
      "cell_type": "code",
      "execution_count": null,
      "metadata": {
        "collapsed": false
      },
      "outputs": [],
      "source": [
        "def clean_all_dbs(speos_client: core.kernel.client.SpeosClient) -> None:\n    \"\"\"\n    Clean the database info loaded inside a client.\n\n    Parameters\n    ----------\n    speos_client: core.SpeosClient\n\n    Returns\n    -------\n    None\n\n    \"\"\"\n    for item in (\n        speos_client.jobs().list()\n        + speos_client.scenes().list()\n        + speos_client.simulation_templates().list()\n        + speos_client.sensor_templates().list()\n        + speos_client.source_templates().list()\n        + speos_client.intensity_templates().list()\n        + speos_client.spectrums().list()\n        + speos_client.vop_templates().list()\n        + speos_client.sop_templates().list()\n        + speos_client.parts().list()\n        + speos_client.bodies().list()\n        + speos_client.faces().list()\n    ):\n        item.delete()\n\n\ndef open_result(file) -> dict:\n    \"\"\"\n    Open result Speos XMP result file and extract measurement results based\n    on a measurement template file.\n\n    Parameters\n    ----------\n    file: str\n        Speos result xmp file directory\n\n    Returns\n    -------\n    dict\n        a dictionary with measurement results\n\n    \"\"\"\n    if os.getenv(\"ON_CI\") != \"true\":  # Use XMPViewer only outside CI environment\n        dpf_instance = CreateObject(\"XMPViewer.Application\")\n        dpf_instance.OpenFile(file)\n        temp_dir = os.getenv(\"TEMP\")\n        if not os.path.exists(temp_dir):\n            os.mkdir(temp_dir)\n        if \"radiance\" in file.lower():\n            dpf_instance.ImportTemplate(\n                os.path.join(\n                    os.path.abspath(\"\"), \"Lightguide.speos\", \"DRL_Upper-only.VE-measure.xml\"\n                ),\n                1,\n                1,\n                0,\n            )\n            export_dir = os.path.join(temp_dir, \"lg_robustness_result.txt\")\n            dpf_instance.MeasuresExportTXT(export_dir)\n            file = open(export_dir)\n            content = file.readlines()\n            RMS_content = content[10]\n            Average_content = content[11]\n            res = {\n                \"RMS_contrast\": float(\n                    RMS_content[RMS_content.find(\"\\tValue=\") + 7 : RMS_content.find(r\"ValueUnit=\")]\n                ),\n                \"Average\": float(\n                    Average_content[\n                        Average_content.find(\"\\tValue=\") + 7 : Average_content.find(r\"ValueUnit=\")\n                    ]\n                ),\n            }\n            return res\n        else:\n            dpf_instance.ImportTemplate(\n                os.path.join(\n                    os.path.abspath(\"\"), \"Lightguide.speos\", \"ECE_R87_DRL_WithoutLines.xml\"\n                ),\n                1,\n                1,\n                0,\n            )\n            export_dir = os.path.join(temp_dir, f\"lg_robustness_result.txt\")\n            dpf_instance.MeasuresExportTXT(export_dir)\n            limited_passed_count = 0\n            failed_count = 0\n            passed_count = 0\n            with open(export_dir) as result_file:\n                for line in result_file:\n                    if \"RuleStatus\" in line:\n                        if \"(specification failed)\" in line:\n                            limited_passed_count += 1\n                        elif \"(passed)\" in line:\n                            passed_count += 1\n                        elif \"(failed)\" in line:\n                            failed_count += 1\n                        else:\n                            print(\"Rules status is unknown.\")\n\n            res = {\n                \"Number_of_rules_limited_passed\": limited_passed_count,\n                \"Number_of_rules_failed\": failed_count,\n            }\n            return res\n    else:  # Provide dummy results for CI environment\n        res = {\n            \"RMS_contrast\": 0.15,\n            \"Average\": 250000.0,\n            \"Number_of_rules_limited_passed\": 1,\n            \"Number_of_rules_failed\": 0,\n        }\n        return res\n\n\ndef displace_face(edit_face, xyz=[0, 0, 0]) -> None:\n    \"\"\"\n    Move a face in a translational direction defined by a provided vector xyz.\n\n    Parameters\n    ----------\n    edit_face: ansys.speos.core.face.Face\n    xyz: tuple\n        A tuple with 3 elements defining a vector defined by xyz\n\n    Returns\n    -------\n    None\n\n    \"\"\"\n    temp_face_vertices = edit_face._face.vertices\n    temp_face_vertices = np.array(temp_face_vertices).reshape((-1, 3))\n    new_face_vertices = [np.add(item, xyz) for item in temp_face_vertices]\n    new_face_vertices = np.array(new_face_vertices).reshape((1, -1)).tolist()[0]\n\n    edit_face.set_vertices(new_face_vertices)\n    edit_face.commit()\n\n\ndef displace_body(project, body_name, xyz=[1, 0, 0]) -> None:\n    \"\"\"\n    Move a body in a translational direction defined by a provided vector xyz.\n\n    Parameters\n    ----------\n    project: script.Project\n    body_name: str\n        geo_path of a body\n    xyz: tuple\n        A tuple with 3 elements defining a vector defined by xyz\n\n    Returns\n    -------\n    None\n\n    \"\"\"\n    edit_body = project.find(name=body_name, name_regex=True, feature_type=Body)[0]\n    faces = edit_body._geom_features\n    for face in faces:\n        displace_face(face, xyz=xyz)\n\n\ndef change_surface_source_position(project, sources, source_position_dict) -> None:\n    \"\"\"\n    change the position of surface where surface source is linked.\n\n    Parameters\n    ----------\n    project: script.Project\n        project in which source will be modified.\n    sources: script.Source\n        sources inside the project.\n    source_position_dict: dict\n        A dictionary within which position information is saved.\n\n    Returns\n    -------\n    None\n\n    \"\"\"\n    for source in sources:\n        source_name = source.get(key=\"name\")\n        source_geo_path = source.get(key=\"geo_path\")[0]\n        source_linked_body = source_geo_path[\"geo_path\"].split(\"/\")[0]\n        if source_name in source_position_dict:\n            displace_body(\n                project,\n                \"/\".join([source_linked_body]),\n                source_position_dict[source_name],\n            )\n\n\ndef change_source_power(sources, source_power_dict) -> None:\n    \"\"\"\n    Change the power of surface where surface source is linked.\n\n    Parameters\n    ----------\n    sources: script.Source\n        sources inside the project.\n    source_power_dict: dict\n        A dictionary within which source power information is saved.\n\n    Returns\n    -------\n    None\n\n    \"\"\"\n    for source in sources:\n        source_name = source.get(key=\"name\")\n        if source_name in source_power_dict:\n            source.set_flux_luminous(value=source_power_dict[source_name])\n            source.commit()\n\n\ndef speos_simulation(hid, speos, parameters) -> dict:\n    \"\"\"\n    Run speos simulation with given source parameters to be changed.\n\n    Parameters\n    ----------\n    hid: str\n        string that contains the design id\n    speos: core.Speos\n    parameters: dict\n        dictionary includes parameters to be used for each design iteration\n\n    Returns\n    -------\n    dict\n        a dictionary with index of design id and value as dictionary including\n        simulation results: RMS_contrast, Average luminous, Number_of_rules_failed\n\n    \"\"\"\n    new_parameter_values = {p[\"name\"]: p[\"value\"] for p in parameters}\n\n    clean_all_dbs(speos.client)\n    script_folder = Path(__file__).resolve().parent\n    speos_file = script_folder / \"Lightguide.speos\" / \"Lightguide.speos\"\n    project = Project(speos=speos, path=str(speos_file))\n    if hid == \"0.1\":\n        if GRAPHICS_BOOL:\n            project.preview()\n\n    # Update of the light source power\n    sources = project.find(name=\".*\", name_regex=True, feature_type=SourceSurface)\n    new_sources_power = {\n        \"Surface.1:6015\": new_parameter_values.get(\"Flux\"),\n        \"Surface.2:30\": new_parameter_values.get(\"Flux\"),\n    }\n\n    change_source_power(sources, new_sources_power)\n\n    # Update of the source position\n    new_source_displacement = {\n        \"Surface.1:6015\": [\n            new_parameter_values.get(\"LED_delta_x\"),\n            new_parameter_values.get(\"LED_delta_y\"),\n            new_parameter_values.get(\"LED_delta_z\"),\n        ],\n        \"Surface.2:30\": [\n            new_parameter_values.get(\"LED_delta_x\"),\n            new_parameter_values.get(\"LED_delta_y\"),\n            new_parameter_values.get(\"LED_delta_z\"),\n        ],\n    }\n    change_surface_source_position(project, sources, new_source_displacement)\n    # project.preview()\n\n    # execution of the Speos simulation\n    sim = project.find(name=\".*\", name_regex=True, feature_type=SimulationDirect)[0]\n    sim.set_stop_condition_rays_number(2000000).commit()\n    res = sim.compute_CPU()\n\n    # Result extraction\n    xmp_files = [item.path for item in res if \".xmp\" in item.path]\n    response = {}\n    result_design = {}\n    for xmp in xmp_files:\n        response.update(open_result(xmp))\n    result_design.update(\n        hid=hid,\n        responses=[\n            {\"name\": \"RMS_contrast\", \"value\": response.get(\"RMS_contrast\")},\n            {\"name\": \"Average\", \"value\": response.get(\"Average\")},\n            {\n                \"name\": \"Number_of_rules_limited_passed\",\n                \"value\": response.get(\"Number_of_rules_limited_passed\"),\n            },\n            {\"name\": \"Number_of_rules_failed\", \"value\": response.get(\"Number_of_rules_failed\")},\n        ],\n    )\n    result_print = str(\"Design \" + result_design[\"hid\"]) + \": \"\n    for i in range(0, len(result_design[\"responses\"])):\n        result_print += (\n            str(result_design[\"responses\"][i][\"name\"])\n            + \" = \"\n            + str(result_design[\"responses\"][i][\"value\"])\n            + \" | \"\n        )\n    print(result_print)\n    return result_design\n\n\ndef get_design_values(osl) -> list[dict]:\n    \"\"\"\n\n    Parameters\n    ----------\n    osl: ansys.optislang.core\n        Ansys optiSLang instance\n\n    Returns\n    -------\n    list of dict:\n        A list of dictionaries containing the all design information for each design.\n    \"\"\"\n    project_tree = osl.osl_server.get_full_project_tree()\n    project_actors = project_tree[\"projects\"][0][\"system\"]\n    algorithmsystem_uid = project_actors[\"nodes\"][0][\"uid\"]\n    actor_info = osl.osl_server.get_actor_status_info(\n        algorithmsystem_uid, 0, include_design_values=True\n    )\n\n    return actor_info"
      ]
    },
    {
      "cell_type": "markdown",
      "metadata": {},
      "source": [
        "## Main script execution\nFrom the environment variable, find the optiSLang executable for given version\nand initiate an optiSLang project.\n\n\n"
      ]
    },
    {
      "cell_type": "code",
      "execution_count": null,
      "metadata": {
        "collapsed": false
      },
      "outputs": [],
      "source": [
        "def get_executable(version) -> Path:\n    \"\"\"Returns the optiSLang executable for given version.\n\n    Parameters\n    ----------\n    version : int\n        optiSLang version, e.g. 251\n\n    Returns\n    -------\n    Path\n        Executable path.\n    \"\"\"\n    if os.getenv(f\"AWP_ROOT{version}\"):\n        awp_root = os.getenv(f\"AWP_ROOT{version}\")\n        osl_com = Path(awp_root) / \"optiSLang\" / \"optislang.com\"\n    else:\n        raise Exception(f\"optiSLang installation not found. Please install optiSLang v{version}.\")\n    return osl_com\n\n\nosl_executable = get_executable(ANSYS_RELEASE)\nmy_osl = Optislang(\n    executable=osl_executable,\n    ini_timeout=60,\n    # loglevel=\"DEBUG\"\n)\nprint(f\"Using optiSLang version {my_osl.osl_version_string}\")"
      ]
    },
    {
      "cell_type": "markdown",
      "metadata": {},
      "source": [
        "## Create optiSLang workflow\nCreate robustness workflow and define criteria definition\n\n\n"
      ]
    },
    {
      "cell_type": "code",
      "execution_count": null,
      "metadata": {
        "collapsed": false
      },
      "outputs": [],
      "source": [
        "def create_workflow(osl, user_input_json):\n    \"\"\"\n    This function creates the robustness workflow\n    with a proxy node and register parameters and responses.\n\n    Parameters\n    ----------\n    osl: ansys.optislang.core\n        Ansys optiSLang instance\n    user_input_json: dict\n        dictionary with optimization boundaries as json\n\n    Returns\n    -------\n    ansys.optislang.core.nodes\n        optiSLang Optimization system and proxy solver node.\n    \"\"\"\n    # create system\n    root_system = osl.application.project.root_system\n    robustness_system = root_system.create_node(type_=node_types.Robustness, name=\"Robustness\")\n\n    # create node\n    proxy_solver_node = robustness_system.create_node(\n        type_=node_types.ProxySolver, name=\"Proxy Solver\", design_flow=DesignFlow.RECEIVE_SEND\n    )\n    mop_node = root_system.create_node(type_=node_types.Mop, name=\"MOP\")\n\n    # connect system with MOP node\n    robustness_system_out = robustness_system.get_output_slots(name=\"OMDBPath\")[0]\n    mop_node_in = mop_node.get_input_slots(name=\"IMDBPath\")[0]\n    robustness_system_out.connect_to(mop_node_in)\n\n    # register parameter and responses\n    proxy_solver_node.load(user_input_json)\n    proxy_solver_node.register_locations_as_parameter()\n    proxy_solver_node.register_locations_as_response()\n\n    # adjust parameter ranges\n    for parameter in user_input_json.get(\"parameters\"):\n        robustness_system.parameter_manager.modify_parameter(\n            StochasticParameter(\n                name=parameter.get(\"name\"),\n                reference_value=parameter.get(\"value\"),\n                distribution_type=getattr(DistributionType, parameter.get(\"distribution_type\")),\n                distribution_parameters=parameter.get(\"distribution_parameters\"),\n            )\n        )\n\n    # robustness system settings\n    robustness_settings = robustness_system.get_property(\"AlgorithmSettings\")\n    robustness_settings[\"num_discretization\"] = user_input_json.get(\"maximum_number_simulations\")\n    robustness_system.set_property(\"AlgorithmSettings\", robustness_settings)\n\n    # proxy node settings\n    multi_design_launch_num = 30  # set -1 to solve all designs simultaneously\n    proxy_solver_node.set_property(\"MultiDesignLaunchNum\", multi_design_launch_num)\n    proxy_solver_node.set_property(\"ForwardHPCLicenseContextEnvironment\", True)\n\n    return robustness_system, proxy_solver_node\n\n\ndef criteria_definition(system, load_json) -> None:\n    \"\"\"\n    This functions defines the robustness criteria in optiSLang based on user input\n    Parameters\n    ----------\n    system: ansys.optislang.core.nodes\n        optiSLang Optimization system\n    load_json: dict\n        dictionary with optimization boundaries as json\n\n    Returns\n    -------\n    None\n\n    \"\"\"\n    for crit in load_json.get(\"criteria\"):\n        crit_name = crit.get(\"name\")\n        if crit.get(\"type\") == \"objective\":\n            if crit.get(\"target\") == \"MIN\":\n                comparison_type_obj = ComparisonType.MIN\n            elif crit.get(\"target\") == \"MAX\":\n                comparison_type_obj = ComparisonType.MAX\n            else:\n                raise Exception(\"objective type not defined\")\n\n            system.criteria_manager.add_criterion(\n                ObjectiveCriterion(\n                    name=f\"obj_{crit_name}\", expression=crit_name, criterion=comparison_type_obj\n                )\n            )\n\n        if crit.get(\"type\") == \"constraint\":\n            if crit.get(\"target\") == \"<=\":\n                comparison_type_constr = ComparisonType.LESSEQUAL\n            elif crit.get(\"target\") == \">=\":\n                comparison_type_constr = ComparisonType.GREATEREQUAL\n            else:\n                raise Exception(\"Constraint type not well defined\")\n            system.criteria_manager.add_criterion(\n                ConstraintCriterion(\n                    name=f\"constr_{crit_name}\",\n                    expression=crit_name,\n                    criterion=comparison_type_constr,\n                    limit_expression=str(crit.get(\"limit\")),\n                )\n            )\n\n\nparametric_system, proxy_node = create_workflow(my_osl, VARIATION_ANALYSIS_BOUNDARIES)\ncriteria_definition(parametric_system, VARIATION_ANALYSIS_BOUNDARIES)\n\n# Save project\ntemp_dir = Path(os.getenv(\"TEMP\"))\nproject_name = \"_proxy_solver_workflow.opf\"\n# my_osl.application.save_as(temp_dir / project_name)  # uncomment to save the project\n\n# optiSLang project execution\nmy_osl.application.project.start(wait_for_finished=False)\nprint(\"Variation Analysis: started.\")"
      ]
    },
    {
      "cell_type": "markdown",
      "metadata": {},
      "source": [
        "## Execute Robustness analysis\nloop until get_status() and returns \"Processing done\" for the root system\n\n\n"
      ]
    },
    {
      "cell_type": "code",
      "execution_count": null,
      "metadata": {
        "collapsed": false
      },
      "outputs": [],
      "source": [
        "def calculate(designs) -> list:\n    \"\"\"\n    This function evaluated the optical simulation outputs based on the given designs parameters.\n\n    Parameters\n    ----------\n    designs: list\n        A list of designs to be evaluated. For each design the parameter values are defined\n\n    Returns\n    -------\n    list\n        A list of evaluated designs with the corresponding outputs.\n    \"\"\"\n    # create speos instance\n    from ansys.speos.core import launcher\n\n    speos = launcher.launch_local_speos_rpc_server(version=ANSYS_RELEASE)\n\n    # run speos simulation\n    result_design_list = []\n    for design in designs:\n        hid = design[\"hid\"]\n        parameters = design[\"parameters\"]\n\n        result_design = speos_simulation(hid, speos, parameters)\n        result_design_list.append(result_design)\n\n    # close speos instance\n    speos.client.close()\n    return result_design_list\n\n\nwhile not my_osl.project.root_system.get_status() == \"Processing done\":\n    design_list = proxy_node.get_designs()\n    if len(design_list):\n        responses_dict = calculate(design_list)\n        proxy_node.set_designs(responses_dict)\n    time.sleep(1)\n\n# Run MOP node\nmy_osl.application.project.start(wait_for_finished=True)\nprint(\"Variation Analysis: Done!\")"
      ]
    },
    {
      "cell_type": "markdown",
      "metadata": {},
      "source": [
        "## Get quality values\nGet the robustness result and display in the console.\n\n\n"
      ]
    },
    {
      "cell_type": "code",
      "execution_count": null,
      "metadata": {
        "collapsed": false
      },
      "outputs": [],
      "source": [
        "def get_design_quality_values(osl):\n    \"\"\"\n    This function calculates the probability of failure for each response.\n    osl: ansys.optislang.core\n        Ansys optiSLang instance\n\n    Returns\n    -------\n    real\n        The probability of failure for the response as well as the number of feasible designs.\n    \"\"\"\n    list_design_information = get_design_values(osl)\n\n    rms_contrast_count_failed = 0\n    average_count_failed = 0\n    rules_specification_count_failed = 0\n    rules_count_failed = 0\n    feasible_designs = 0\n\n    for design_status in list_design_information.get(\"design_status\"):\n        if design_status.get(\"feasible\"):\n            feasible_designs += 1\n\n    response_names = list_design_information.get(\"designs\").get(\"response_names\")\n    designs = list_design_information.get(\"designs\").get(\"values\")\n\n    for design_values in designs:\n        response_values = design_values.get(\"response_values\")\n        responses = {name: value for name, value in zip(response_names, response_values)}\n\n        if responses.get(\"RMS_contrast\") > 0.2:\n            rms_contrast_count_failed += 1\n        if responses.get(\"Average\") < 160000.0:\n            average_count_failed += 1\n        if responses.get(\"Number_of_rules_limited_passed\") > 2.0:\n            rules_specification_count_failed += 1\n        if responses.get(\"Number_of_rules_failed\") > 0.0:\n            rules_count_failed += 1\n\n    return (\n        rms_contrast_count_failed / len(designs) * 100,\n        average_count_failed / len(designs) * 100,\n        rules_specification_count_failed / len(designs) * 100,\n        rules_count_failed / len(designs) * 100,\n        feasible_designs,\n    )\n\n\n(\n    rms_contrast_fail_prob,\n    average_fail_prob,\n    specification_rules_fail_prob,\n    national_rules_fail_prob,\n    num_feasible_designs,\n) = get_design_quality_values(my_osl)\n\nprint(f'{\"*\" * 25} SUMMARY {\"*\" * 25}')\nprint(f\"Probability of failure for RMS contrast: {round(rms_contrast_fail_prob, 1)} %\")\nprint(f\"Probability of failure for Average: {round(average_fail_prob, 1)} %\")\nprint(\n    f\"Probability of failure for fulfillment national rules: {round(national_rules_fail_prob, 1)} %\"\n)\nprint(\n    \"Probability of failure for fulfillment specification rules: \"\n    f\"{round(specification_rules_fail_prob, 1)} %\\n\"\n)\nprint(\n    f\"{num_feasible_designs} out of {VARIATION_ANALYSIS_BOUNDARIES['maximum_number_simulations']} \"\n    \"designs are feasible.\"\n)\nprint(\"*\" * 50)"
      ]
    },
    {
      "cell_type": "markdown",
      "metadata": {},
      "source": [
        "## Close optiSLang\n\n\n"
      ]
    },
    {
      "cell_type": "code",
      "execution_count": null,
      "metadata": {
        "collapsed": false
      },
      "outputs": [],
      "source": [
        "my_osl.dispose()\nprint(\"OSL Project finished.\")"
      ]
    }
  ],
  "metadata": {
    "kernelspec": {
      "display_name": "Python 3",
      "language": "python",
      "name": "python3"
    },
    "language_info": {
      "codemirror_mode": {
        "name": "ipython",
        "version": 3
      },
      "file_extension": ".py",
      "mimetype": "text/x-python",
      "name": "python",
      "nbconvert_exporter": "python",
      "pygments_lexer": "ipython3",
      "version": "3.12.7"
    }
  },
  "nbformat": 4,
  "nbformat_minor": 0
}