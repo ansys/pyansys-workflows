{
  "cells": [
    {
      "cell_type": "markdown",
      "metadata": {},
      "source": [
        "\n\n# Consecutive submodeling with MAPDL pool\nProblem description:\n - In this example, we demonstrate how to use MAPDL pool to\n   perform a consecutive submodeling simulation with MAPDL and DPF.\n\nAnalysis type:\n - Static Analysis\n\nMaterial properties:\n - Young's modulus, $E = 200 \\, GPa$\n - Poisson's ratio, $\\mu = 0.3$\n\nBoundary conditions (global model):\n - Fixed support applied at the bottom side\n - Frictionless support applied at the right side\n\nLoading:\n - Total displacement of -1 mm in the Y-direction at the top surface,\n   ramped linearly over 10 timesteps\n\n<img src=\"file://../_static/bvp.png\" width=\"500\" alt=\"Problem Sketch\">\n\nModeling notes:\n - At each timestep, the global model is solved with the specified boundary\n   conditions; the resulting nodal displacements are interpolated to the\n   boundary nodes of the local model, using the DPF interpolation operator.\n   Those displacements are enforced as constraints to the local model,\n   which is then solved, completing that timestep.\n"
      ]
    },
    {
      "cell_type": "code",
      "execution_count": null,
      "metadata": {
        "collapsed": false
      },
      "outputs": [],
      "source": [
        "import os\nfrom pathlib import Path\nimport shutil\nimport time as tt\n\nfrom ansys.dpf import core as dpf\nfrom ansys.mapdl.core import MapdlPool\nfrom ansys.mapdl.core.examples.downloads import download_example_data\nimport numpy as np"
      ]
    },
    {
      "cell_type": "markdown",
      "metadata": {},
      "source": [
        "## Create directories to save the results\n\n"
      ]
    },
    {
      "cell_type": "code",
      "execution_count": null,
      "metadata": {
        "collapsed": false
      },
      "outputs": [],
      "source": [
        "folders = [\"./outputs/mapdl-dpf/global\", \"./outputs/mapdl-dpf/local\"]\nfor fdr in folders:\n    shutil.rmtree(fdr, ignore_errors=True)\n    Path(fdr).mkdir(parents=True, exist_ok=True)\n\n# ##############################################################################\n# Create a pool of MAPDL instances\n# ~~~~~~~~~~~~~~~~~~~~~~~~~~~~~~~~\n# We use the ``MapdlPool`` class to create two separate instances: one dedicated to\n# the global simulation and the other to the local simulation\n\nport_0 = int(os.getenv(\"PYMAPDL_PORT_0\", 21000))\nport_1 = int(os.getenv(\"PYMAPDL_PORT_1\", 21001))\nis_cicd = os.getenv(\"ON_CICD\", False)\nn_cores = 2\n\n\nif is_cicd:\n    mapdl_pool = MapdlPool(\n        port=[port_0, port_1],\n    )\n\nelse:\n    mapdl_pool = MapdlPool(2)"
      ]
    },
    {
      "cell_type": "markdown",
      "metadata": {},
      "source": [
        "## Connect to DPF server\nWe connect to a local or remote DPF server.\nIf you are working with a remote server, you might need to upload the ``RST``\nfile before working with it.\nThen you can create the :class:`DPF Model <ansys.dpf.core.model.Model>`.\n\n"
      ]
    },
    {
      "cell_type": "code",
      "execution_count": null,
      "metadata": {
        "collapsed": false
      },
      "outputs": [],
      "source": [
        "server_is_local = \"DPF_PORT\" not in os.environ\n\nif server_is_local:\n    # Local server\n    dpf_server = dpf.server.start_local_server()\n\nelse:\n    # Remote server\n    dpf_server = dpf.server.connect_to_server(port=int(os.environ[\"DPF_PORT\"]))\n\n\n# ###############################################################################\n# Set up global and local FE models\n# ~~~~~~~~~~~~~~~~~~~~~~~~~~~~~~~~~\n# We assign the instances to the local and global model, then use\n# ``mapdl.cdread`` to load their geometry and mesh. Note the ``.cdb`` files\n# include named selections for the faces we want to apply the boundary conditions and the loads.\n# The function ``define_bcs`` defines the global model\u2019s boundary conditions and applied loads.\n# The function ``get_boundary`` is used to record the local model\u2019s cut-boundary\n# node coordinates as a ``dpf.Field`` which will be later used in the DPF interpolator input.\n\ncwd = Path.cwd()  # Get current working directory\n\n# download example data\nlocal_cdb = download_example_data(filename=\"local.cdb\", directory=\"pyansys-workflow/pymapdl-pydpf\")\nglobal_cdb = download_example_data(\n    filename=\"global.cdb\", directory=\"pyansys-workflow/pymapdl-pydpf\"\n)\n\nmapdl_global = mapdl_pool[0]  # Global model\nmapdl_global.cdread(\"db\", global_cdb)  # Load global model\nmapdl_global.cwd(cwd / Path(\"outputs/mapdl-dpf/global\"))  # Set directory of the global model\n\nmapdl_local = mapdl_pool[1]  # Local model\nmapdl_local.cdread(\"db\", local_cdb)  # Load local model\nmapdl_local.cwd(cwd / Path(\"outputs/mapdl-dpf/local\"))  # Set directory of the local model\n\n\ndef define_bcs(mapdl):\n    \"\"\"\n    Define boundary conditions and loading for the global model.\n\n    Parameters\n    ----------\n    mapdl : Mapdl\n        MAPDL instance for the global model.\n    \"\"\"\n    # Enter PREP7 in MAPDL\n    mapdl.prep7()\n\n    # In the .cdb file for the global model the bottom, the right and the top faces\n    # are saved as named selections\n\n    # Fixed support\n    mapdl.cmsel(\"S\", \"BOTTOM_SIDE\", \"NODE\")  # Select bottom face\n    mapdl.d(\"ALL\", \"ALL\")\n    mapdl.nsel(\"ALL\")\n\n    # Frictionless support\n    mapdl.cmsel(\"S\", \"RIGHT_SIDE\", \"NODE\")  # Select right face\n    mapdl.d(\"ALL\", \"UZ\", \"0\")\n    mapdl.nsel(\"ALL\")\n\n    # Applied load\n    # Ramped Y\u2011direction displacement of \u20131\u202fmm is applied on the top face over 10 time steps\n    mapdl.dim(\"LOAD\", \"TABLE\", \"3\", \"1\", \"1\", \"TIME\", \"\", \"\", \"0\")\n    mapdl.taxis(\"LOAD(1)\", \"1\", \"0.\", \"1.\", \"10.\")\n    mapdl.starset(\"LOAD(1,1,1)\", \"0.\")\n    mapdl.starset(\"LOAD(2,1,1)\", \"-0.1\")\n    mapdl.starset(\"LOAD(3,1,1)\", \"-1.\")\n\n    mapdl.cmsel(\"S\", \"TOP_SIDE\", \"NODE\")  # Select top face\n    mapdl.d(\"ALL\", \"UY\", \"%LOAD%\")\n    mapdl.nsel(\"ALL\")\n\n    # Exit PREP7\n    mapdl.finish()\n    pass\n\n\ndef get_boundary(mapdl):\n    \"\"\"\n    Get the boundary node coordinates of the local model as a DPF field.\n\n    Parameters\n    ----------\n    mapdl : Mapdl\n        MAPDL instance for the local model.\n\n    Returns\n    -------\n    dpf.Field\n        DPF field containing the coordinates of the boundary nodes of the local model.\n    \"\"\"\n    # Enter PREP7 in MAPDL\n    mapdl.prep7()\n\n    # In the .cdb file for the local model the boundary faces are saved as\n    # named selections\n\n    mapdl.nsel(\"all\")\n    nodes = mapdl.mesh.nodes  # All nodes\n    node_id_all = mapdl.mesh.nnum  # All nodes ID\n    mapdl.cmsel(\"S\", \"boundary\", \"NODE\")  # Select all boundary faces\n    node_id_subset = mapdl.get_array(\"NODE\", item1=\"NLIST\").astype(int)  # Boundary nodes ID\n    map_ = dict(zip(node_id_all, list(range(len(node_id_all)))))\n\n    mapdl.nsel(\"NONE\")\n    boundary_coordinates = dpf.fields_factory.create_3d_vector_field(\n        num_entities=len(node_id_subset), location=\"Nodal\"\n    )  # Define DPF field for DPF interpolator input\n\n    nsel = \"\"\n    for nid in node_id_subset:  # Iterate boundary nodes of the local model\n        nsel += \"nsel,A,NODE,,{}\\n\".format(\n            nid\n        )  # Add selection command for the node to the str (only for ploting)\n        boundary_coordinates.append(nodes[map_[nid]], nid)  # Add node to the DPF field\n\n    # Select all boundary nodes (only for ploting)\n    mapdl.input_strings(nsel)\n\n    # Plot boundary nodes of the local model\n    mapdl.nplot(background=\"w\", color=\"b\", show_bounds=True, title=\"Constrained nodes\")\n\n    # Exit PREP7\n    mapdl.finish()\n    return boundary_coordinates\n\n\n# Define the boundary conditions and the loading for the global model\ndefine_bcs(mapdl_global)\n\n# Get the DPF field with the boundary nodes of the local model\nboundary_coords = get_boundary(mapdl_local)"
      ]
    },
    {
      "cell_type": "markdown",
      "metadata": {},
      "source": [
        "## Set up DPF operators\nWe define two DPF operators: the first reads the displacement results from the global model,\nand the second interpolates those displacements onto the boundary coordinates of the local\nmodel. The ``DataSources`` class to link results with the DPF operator inputs.\n\n"
      ]
    },
    {
      "cell_type": "code",
      "execution_count": null,
      "metadata": {
        "collapsed": false
      },
      "outputs": [],
      "source": [
        "def define_dpf_operators(n_cores):\n    \"\"\"\n    Define DPF operators for the global model.\n\n    Parameters\n    ----------\n    n_cores : int\n        Number of cores used in the global model.\n\n    Returns\n    -------\n    dpf.Model\n        DPF model for the global model.\n    dpf.Operator\n        DPF operator to read nodal displacements from the global model.\n    dpf.Operator\n        DPF operator to interpolate displacements onto local model boundary coordinates.\n    \"\"\"\n    # Define the DataSources class and link it to the results of the global model\n    data_sources = dpf.DataSources()\n    for i in range(n_cores):\n        data_sources.set_domain_result_file_path(\n            path=Path(f\"./outputs/mapdl-dpf/global/file{i}.rst\"), key=\"rst\", domain_id=i\n        )\n\n    global_model = dpf.Model(data_sources)\n    # Define displacement result operator to read nodal displacements\n    global_disp_op = dpf.operators.result.displacement()\n    # Connect displacement result operator with the global model's results file\n    global_disp_op.inputs.data_sources.connect(data_sources)\n    # Define interpolator to interpolate the results inside the mesh elements\n    # with shape functions\n    disp_interpolator = dpf.operators.mapping.on_coordinates()\n    return global_model, global_disp_op, disp_interpolator\n\n\ndef initialize_dpf_interpolator(\n    global_model,\n    local_bc_coords,\n    disp_interpolator,\n):\n    \"\"\"\n    Initialize the DPF interpolator for the local model.\n\n    Parameters\n    ----------\n    global_model : dpf.Model\n        DPF model for the global model.\n    local_bc_coords : dpf.Field\n        DPF field containing the coordinates of the boundary nodes of the local model.\n    disp_interpolator : dpf.Operator\n        DPF operator to interpolate displacements onto local model boundary coordinates.\n    \"\"\"\n    my_mesh = global_model.metadata.meshed_region  # Global model's mesh\n    disp_interpolator.inputs.coordinates.connect(\n        local_bc_coords\n    )  # Link interpolator inputs with the local model's boundary coordinates\n    disp_interpolator.inputs.mesh.connect(\n        my_mesh\n    )  # Link interpolator mesh with the global model's mesh\n\n\ndef interpolate_data(timestep):\n    global_disp_op.inputs.time_scoping.connect(\n        [timestep]\n    )  # Specify timestep value to read results from\n    global_disp = (\n        global_disp_op.outputs.fields_container.get_data()\n    )  # Read global nodal displacements\n\n    disp_interpolator.inputs.fields_container.connect(\n        global_disp\n    )  # Link the interpolation data with the interpolator\n    local_disp = disp_interpolator.outputs.fields_container.get_data()[\n        0\n    ]  # Get displacements of the boundary nodes of the local model\n    return local_disp\n\n\n# Define the two DPF operators\nglobal_model, global_disp_op, disp_interpolator = define_dpf_operators(n_cores)"
      ]
    },
    {
      "cell_type": "markdown",
      "metadata": {},
      "source": [
        "## Set up simulation loop\nWe solve the two models sequentially for each loading step.\nFirst the global model is run producing a .rst results file.\nThen we extract the global displacements and use them to define\ncut-boundary conditions for the local model\n(an input string command will be used for faster excecution time).\n\n"
      ]
    },
    {
      "cell_type": "code",
      "execution_count": null,
      "metadata": {
        "collapsed": false
      },
      "outputs": [],
      "source": [
        "def define_cut_boundary_constraint_template(local_bc_coords):\n    \"\"\"\n    Define template of input string command to apply the displacement constraints.\n\n    Parameters\n    ----------\n    local_bc_coords : dpf.Field\n        DPF field containing the coordinates of the boundary nodes of the local model.\n\n    Returns\n    -------\n    str\n        Template of input string command to apply the displacement constraints.\n    \"\"\"\n    # Define template of input string command to apply the displacement constraints\n    local_nids = local_bc_coords.scoping.ids\n    # Get Node ID of boundary nodes of the local model\n    template = \"\"\n    for nid in local_nids:\n        template += (\n            \"d,\"\n            + str(nid)\n            + \",ux,{:1.6e}\\nd,\"\n            + str(nid)\n            + \",uy,{:1.6e}\\nd,\"\n            + str(nid)\n            + \",uz,{:1.6e}\\n\"\n        )\n    return template\n\n\ndef solve_global_local(mapdl_global, mapdl_local, timesteps, local_bc_coords):\n    \"\"\"\n    Solve the global and local models sequentially for each timestep.\n\n    Parameters\n    ----------\n    mapdl_global : Mapdl\n        MAPDL instance for the global model.\n    mapdl_local : Mapdl\n        MAPDL instance for the local model.\n    timesteps : int\n        Number of timesteps to solve.\n    local_bc_coords : dpf.Field\n        DPF field containing the coordinates of the boundary nodes of the local model.\n    \"\"\"\n    # Enter solution processor\n    mapdl_global.solution()\n    mapdl_local.solution()\n\n    # Static analysis\n    mapdl_global.antype(\"STATIC\")\n    mapdl_local.antype(\"STATIC\")\n\n    constraint_template = define_cut_boundary_constraint_template(local_bc_coords)\n\n    for i in range(1, timesteps + 1):  # Iterate timesteps\n        print(f\"Timestep: {i}\")\n        st = tt.time()\n        # Set loadstep time for the global model\n        mapdl_global.time(i)\n        # No extrapolation\n        mapdl_global.eresx(\"NO\")\n        mapdl_global.allsel(\"ALL\")\n        # Write ALL results to database\n        mapdl_global.outres(\"ALL\", \"ALL\")\n        # Solve global model\n        mapdl_global.solve()\n        print(\"Global solve took \", tt.time() - st)\n\n        # Initialize interpolator\n        if i == 1:\n            initialize_dpf_interpolator(global_model, local_bc_coords, disp_interpolator)\n        # Read  & Interpolate displacement data\n        local_disp = interpolate_data(timestep=i)\n        # Run MAPDL input string command to apply the displacement constraints\n        data_array = np.array(local_disp.data).flatten()\n        mapdl_local.input_strings(constraint_template.format(*data_array))\n\n        st = tt.time()\n        mapdl_local.allsel(\"ALL\")\n        # Set loadstep time for the local model\n        mapdl_local.time(i)\n        # No extrapolation\n        mapdl_local.eresx(\"NO\")\n        # Write ALL results to database\n        mapdl_local.outres(\"ALL\", \"ALL\")\n        # Solve local model\n        mapdl_local.solve()\n        print(\"Local solve took \", tt.time() - st)\n\n    # Exit solution processor\n    mapdl_global.finish()\n    mapdl_local.finish()"
      ]
    },
    {
      "cell_type": "markdown",
      "metadata": {},
      "source": [
        "## Solve system\n\n"
      ]
    },
    {
      "cell_type": "code",
      "execution_count": null,
      "metadata": {
        "collapsed": false
      },
      "outputs": [],
      "source": [
        "n_steps = 10  # Number of timesteps\nsolve_global_local(mapdl_global, mapdl_local, n_steps, boundary_coords)"
      ]
    },
    {
      "cell_type": "markdown",
      "metadata": {},
      "source": [
        "## Visualize results\n\n"
      ]
    },
    {
      "cell_type": "code",
      "execution_count": null,
      "metadata": {
        "collapsed": false
      },
      "outputs": [],
      "source": [
        "def visualize(mapdl):\n    # Enter post-processing\n    mapdl.post1()\n    # Set the current results set to the last set to be read from result file\n    mapdl.set(\"LAST\")\n    # Plot nodal displacement of the loading direction\n    mapdl.post_processing.plot_nodal_displacement(\"Y\", cmap=\"jet\", background=\"w\", cpos=\"zy\")\n    # Exit post-processing\n    mapdl.finish()\n\n\n# Plot Y displacement of global model\nvisualize(mapdl_global)\n\n# Plot Y displacement of local model\nvisualize(mapdl_local)"
      ]
    },
    {
      "cell_type": "markdown",
      "metadata": {},
      "source": [
        "## Exit MAPDL instances\n\n"
      ]
    },
    {
      "cell_type": "code",
      "execution_count": null,
      "metadata": {
        "collapsed": false
      },
      "outputs": [],
      "source": [
        "mapdl_pool.exit()"
      ]
    }
  ],
  "metadata": {
    "kernelspec": {
      "display_name": "Python 3",
      "language": "python",
      "name": "python3"
    },
    "language_info": {
      "codemirror_mode": {
        "name": "ipython",
        "version": 3
      },
      "file_extension": ".py",
      "mimetype": "text/x-python",
      "name": "python",
      "nbconvert_exporter": "python",
      "pygments_lexer": "ipython3",
      "version": "3.11.14"
    }
  },
  "nbformat": 4,
  "nbformat_minor": 0
}