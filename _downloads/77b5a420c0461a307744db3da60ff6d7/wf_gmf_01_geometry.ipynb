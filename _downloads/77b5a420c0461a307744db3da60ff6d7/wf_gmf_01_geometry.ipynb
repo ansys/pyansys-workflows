{
  "cells": [
    {
      "cell_type": "markdown",
      "metadata": {},
      "source": [
        "\n\n# Geometry generation\n\nGenerate a NACA airfoil and the surrounding fluid domain using PyAnsys Geometry.\n\nThis example demonstrates how to create a sketch, perform modeling operations,\nand export the file in different formats (in this specific case, FMD). The example\nalso shows how to generate a NACA 4-digits airfoil and the surrounding fluid domain\nusing PyAnsys Geometry. The airfoil is extruded to create a 3D model, and the fluid\ndomain is created as a box around the airfoil.\n"
      ]
    },
    {
      "cell_type": "code",
      "execution_count": null,
      "metadata": {
        "collapsed": false
      },
      "outputs": [],
      "source": [
        "import os\nfrom pathlib import Path\nfrom typing import List, Union\n\nfrom ansys.geometry.core import launch_modeler\nfrom ansys.geometry.core.connection import GEOMETRY_SERVICE_DOCKER_IMAGE, GeometryContainers\nfrom ansys.geometry.core.math import Plane, Point2D, Point3D\nfrom ansys.geometry.core.plotting import GeometryPlotter\nfrom ansys.geometry.core.sketch import Sketch\nimport numpy as np"
      ]
    },
    {
      "cell_type": "markdown",
      "metadata": {},
      "source": [
        "## Preparing the environment\nThis section is only necessary for workflow runs and docs generation. It checks\nthe environment variables to determine which image to use for the geometry service.\nIf you are running this script outside of a workflow, you can ignore this section.\n\n\n"
      ]
    },
    {
      "cell_type": "code",
      "execution_count": null,
      "metadata": {
        "collapsed": false
      },
      "outputs": [],
      "source": [
        "image = None\nif \"ANSYS_GEOMETRY_RELEASE\" in os.environ:\n    image_tag = os.environ[\"ANSYS_GEOMETRY_RELEASE\"]\n    for geom_services in GeometryContainers:\n        if image_tag == f\"{GEOMETRY_SERVICE_DOCKER_IMAGE}:{geom_services.value[2]}\":\n            print(f\"Using {image_tag} image\")\n            image = geom_services\n            break"
      ]
    },
    {
      "cell_type": "markdown",
      "metadata": {},
      "source": [
        "## Parameters for the script\nThe following parameters are used to control the script execution. You can\nmodify these parameters to suit your needs.\n\n\n"
      ]
    },
    {
      "cell_type": "code",
      "execution_count": null,
      "metadata": {
        "collapsed": false
      },
      "outputs": [],
      "source": [
        "# Graphics boolean\nGRAPHICS_BOOL = False  # Set to True to display the graphs\n\n# Type of airfoil to generate\nNACA_AIRFOIL = \"6412\"\n\n# Dimensions of the fluid domain\n# LENGTH - X-axis\n# WIDTH - Z-axis\n# HEIGHT - Y-axis\n#\nBOX_SIZE_LENGTH = 10\nBOX_SIZE_WIDTH = 5\nBOX_SIZE_HEIGHT = 2\n\n# Data directory\nDATA_DIR = os.path.join(os.path.dirname(__file__), \"outputs\")"
      ]
    },
    {
      "cell_type": "markdown",
      "metadata": {},
      "source": [
        "## Defining the NACA airfoil\nThe NACA airfoil is defined by a 4-digit number. The first digit represents the\nmaximum camber in percentage of the chord, the second digit represents the\nposition of the maximum camber in tenths of the chord, and the last two digits\nrepresent the maximum thickness in percentage of the chord.\n\nThe NACA airfoil is generated using the following formulae:\n\n\\begin{align}\\begin{align*}\n    x_u & = x - y_t \\sin(\\theta) \\\\\n    y_u & = y_c + y_t \\cos(\\theta) \\\\\n    x_l & = x + y_t \\sin(\\theta) \\\\\n    y_l & = y_c - y_t \\cos(\\theta)    \\\\\n    \\end{align*}\\end{align}\n\nwhere:\n\n- $x$ is the x-coordinate of the point,\n- $y_c$ is the camber line,\n- $y_t$ is the thickness,\n- $\\theta$ is the angle of the camber line.\n\nThe camber line is defined as:\n\n\\begin{align}\\begin{align*}\n    y_c & = \\begin{cases}\n    \\frac{m}{p^2} \\left(2 p x - x^2\\right) & \\text{if } x \\leq p \\\\\n    \\frac{m}{(1 - p)^2} \\left((1 - 2 p) + 2 p x - x^2\\right) & \\text{if } x > p\n    \\end{cases}\n    \\end{align*}\\end{align}\n\nwhere:\n\n- $m$ is the maximum camber,\n- $p$ is the position of the maximum camber.\n\nThe thickness is defined as:\n\n\\begin{align}\\begin{align*}\n    y_t & = 5 t \\left(0.2969 \\sqrt{x} - 0.1260 x - 0.3516 x^2 + 0.2843 x^3 - 0.1015 x^4\\right)\n    \\end{align*}\\end{align}\n\nwhere:\n\n- $t$ is the maximum thickness.\n\nThe NACA 4-digits airfoil is generated using the following function. The function\ngenerates the points of the airfoil using the formulae above and returns\na list of points that define the airfoil.\n\n"
      ]
    },
    {
      "cell_type": "code",
      "execution_count": null,
      "metadata": {
        "collapsed": false
      },
      "outputs": [],
      "source": [
        "def naca_airfoil_4digits(number: Union[int, str], n_points: int = 200) -> List[Point2D]:\n    \"\"\"\n    Generate a NACA 4-digits airfoil.\n\n    Parameters\n    ----------\n    number : int or str\n        NACA 4-digit number.\n    n_points : int\n        Number of points to generate the airfoil. The default is ``200``.\n        Number of points in the upper side of the airfoil.\n        The total number of points is ``2 * n_points - 1``.\n\n    Returns\n    -------\n    List[Point2D]\n        List of points that define the airfoil.\n    \"\"\"\n    # Check if the number is a string\n    if isinstance(number, str):\n        number = int(number)\n\n    # Calculate the NACA parameters\n    m = number // 1000 * 0.01\n    p = number // 100 % 10 * 0.1\n    t = number % 100 * 0.01\n\n    # Generate the airfoil\n    points = []\n    for i in range(n_points):\n\n        # Make it a exponential distribution so the points are more concentrated\n        # near the leading edge\n        x = (1 - np.cos(i / (n_points - 1) * np.pi)) / 2\n\n        # Check if it is a symmetric airfoil or not\n        if p == 0 and m == 0:\n            # Camber line is zero in this case\n            yc = 0\n            dyc_dx = 0\n        else:\n            # Compute the camber line\n            if x < p:\n                yc = m / p**2 * (2 * p * x - x**2)\n                dyc_dx = 2 * m / p**2 * (p - x)\n            else:\n                yc = m / (1 - p) ** 2 * ((1 - 2 * p) + 2 * p * x - x**2)\n                dyc_dx = 2 * m / (1 - p) ** 2 * (p - x)\n\n        # Compute the thickness\n        yt = 5 * t * (0.2969 * x**0.5 - 0.1260 * x - 0.3516 * x**2 + 0.2843 * x**3 - 0.1015 * x**4)\n\n        # Compute the angle\n        theta = np.arctan(dyc_dx)\n\n        # Compute the points (upper and lower side of the airfoil)\n        xu = x - yt * np.sin(theta)\n        yu = yc + yt * np.cos(theta)\n        xl = x + yt * np.sin(theta)\n        yl = yc - yt * np.cos(theta)\n\n        # Append the points\n        points.append(Point2D([xu, yu]))\n        points.insert(0, Point2D([xl, yl]))\n\n        # Remove the first point since it is repeated\n        if i == 0:\n            points.pop(0)\n\n    return points"
      ]
    },
    {
      "cell_type": "markdown",
      "metadata": {},
      "source": [
        "## Start a modeler session\nStart a modeler session to interact with the Ansys Geometry Service. The\nmodeler object is used to create designs, sketches, and perform modeling\noperations.\n\n\n"
      ]
    },
    {
      "cell_type": "code",
      "execution_count": null,
      "metadata": {
        "collapsed": false
      },
      "outputs": [],
      "source": [
        "# Instantiate the modeler\nmodeler = launch_modeler(image=image)\nprint(modeler)"
      ]
    },
    {
      "cell_type": "markdown",
      "metadata": {},
      "source": [
        "## Define the airfoil points\nThe airfoil points are generated using the function defined above. The points\nare used to create a sketch of the airfoil.\n\n\n"
      ]
    },
    {
      "cell_type": "code",
      "execution_count": null,
      "metadata": {
        "collapsed": false
      },
      "outputs": [],
      "source": [
        "# Create the design\ndesign = modeler.create_design(f\"NACA_Airfoil_{NACA_AIRFOIL}\")\n\n# Create a sketch\nairfoil_sketch = Sketch()\n\n# Generate the points of the airfoil\npoints = naca_airfoil_4digits(NACA_AIRFOIL)\n\n# Create the segments of the airfoil\nfor i in range(len(points) - 1):\n    airfoil_sketch.segment(points[i], points[i + 1])\n\n# Close the airfoil\nairfoil_sketch.segment(points[-1], points[0])\n\n# Plot the airfoil\nif GRAPHICS_BOOL:\n    airfoil_sketch.plot()"
      ]
    },
    {
      "cell_type": "markdown",
      "metadata": {},
      "source": [
        "## Extrude the airfoil\nThe airfoil is extruded to create a 3D model by a given length. This will\ncreate a 3D model of the airfoil.\n\n\n"
      ]
    },
    {
      "cell_type": "code",
      "execution_count": null,
      "metadata": {
        "collapsed": false
      },
      "outputs": [],
      "source": [
        "# Extrude the airfoil\nairfoil = design.extrude_sketch(\"Airfoil\", airfoil_sketch, 1)\n\n# Plot the design\nif GRAPHICS_BOOL:\n    design.plot()"
      ]
    },
    {
      "cell_type": "markdown",
      "metadata": {},
      "source": [
        "## Create the fluid domain\nIn this section, the surrounding fluid domain is created as a box around the\nairfoil.\n\nThe airfoil has the following dimensions:\n- Chord length: 1 (X-axis)\n- Thickness: depends on NACA value (Y-axis)\n\nThe fluid domain will be a large box with the following dimensions:\n- Length  (X-axis)\n- Width   (Z-axis)\n- Height  (Y-axis)\n\nThe airfoil will be placed at the center of the fluid domain\n\nCreate the sketch\n\n"
      ]
    },
    {
      "cell_type": "code",
      "execution_count": null,
      "metadata": {
        "collapsed": false
      },
      "outputs": [],
      "source": [
        "fluid_sketch = Sketch(plane=Plane(origin=Point3D([0, 0, 0.5 - (BOX_SIZE_WIDTH / 2)])))\nfluid_sketch.box(\n    center=Point2D([0.5, 0]),\n    height=BOX_SIZE_HEIGHT,\n    width=BOX_SIZE_LENGTH,\n)\n\n# Extrude the fluid domain\nfluid = design.extrude_sketch(\"Fluid\", fluid_sketch, BOX_SIZE_WIDTH)\n\n# Create named selections in the fluid domain - inlet, outlet, and surrounding faces\n# Add also the airfoil as a named selection\nfluid_faces = fluid.faces\nsurrounding_faces = []\ninlet_faces = []\noutlet_faces = []\nfor face in fluid_faces:\n    if face.normal().x == 1:\n        outlet_faces.append(face)\n    elif face.normal().x == -1:\n        inlet_faces.append(face)\n    else:\n        surrounding_faces.append(face)\n\ndesign.create_named_selection(\"Outlet Fluid\", faces=outlet_faces)\ndesign.create_named_selection(\"Inlet Fluid\", faces=inlet_faces)\ndesign.create_named_selection(\"Surrounding Faces\", faces=surrounding_faces)\ndesign.create_named_selection(\"Airfoil Faces\", faces=airfoil.faces)\n\n# Plot the design intelligently...\nif GRAPHICS_BOOL:\n    geom_plotter = GeometryPlotter()\n    geom_plotter.plot(airfoil, color=\"blue\")\n    geom_plotter.plot(fluid, color=\"green\", opacity=0.25)\n    geom_plotter.show()"
      ]
    },
    {
      "cell_type": "markdown",
      "metadata": {},
      "source": [
        "## Export the design\nThe design is exported to a file in PMDB format. The PMDB file can be used\nin Ansys Fluent to generate the mesh, since it contains the geometry and the\nnamed selections.\n\n\n"
      ]
    },
    {
      "cell_type": "code",
      "execution_count": null,
      "metadata": {
        "collapsed": false
      },
      "outputs": [],
      "source": [
        "# Save the design\nfile = design.export_to_pmdb(DATA_DIR)\nprint(f\"Design saved to {file}\")"
      ]
    },
    {
      "cell_type": "markdown",
      "metadata": {},
      "source": [
        "## Close session\n\nWhen you finish interacting with your modeling service, you should close the active\nserver session. This frees resources wherever the service is running.\n\n\n"
      ]
    },
    {
      "cell_type": "code",
      "execution_count": null,
      "metadata": {
        "collapsed": false
      },
      "outputs": [],
      "source": [
        "# Close the server session.\nmodeler.close()"
      ]
    }
  ],
  "metadata": {
    "kernelspec": {
      "display_name": "Python 3",
      "language": "python",
      "name": "python3"
    },
    "language_info": {
      "codemirror_mode": {
        "name": "ipython",
        "version": 3
      },
      "file_extension": ".py",
      "mimetype": "text/x-python",
      "name": "python",
      "nbconvert_exporter": "python",
      "pygments_lexer": "ipython3",
      "version": "3.12.7"
    }
  },
  "nbformat": 4,
  "nbformat_minor": 0
}